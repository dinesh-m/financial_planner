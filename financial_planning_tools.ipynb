{
 "cells": [
  {
   "cell_type": "markdown",
   "metadata": {},
   "source": [
    "# Financial Planning with APIs and Simulations\n",
    "\n",
    "In this Challenge, you’ll create two financial analysis tools by using a single Jupyter notebook:\n",
    "\n",
    "Part 1: A financial planner for emergencies. The members will be able to use this tool to visualize their current savings. The members can then determine if they have enough reserves for an emergency fund.\n",
    "\n",
    "Part 2: A financial planner for retirement. This tool will forecast the performance of their retirement portfolio in 30 years. To do this, the tool will make an Alpaca API call via the Alpaca SDK to get historical price data for use in Monte Carlo simulations.\n",
    "\n",
    "You’ll use the information from the Monte Carlo simulation to answer questions about the portfolio in your Jupyter notebook.\n",
    "\n"
   ]
  },
  {
   "cell_type": "code",
   "execution_count": 92,
   "metadata": {},
   "outputs": [],
   "source": [
    "# Import the required libraries and dependencies\n",
    "import os\n",
    "import requests\n",
    "import json\n",
    "import pandas as pd\n",
    "import alpaca_trade_api as tradeapi\n",
    "\n",
    "from dotenv import load_dotenv\n",
    "from alpaca_trade_api.rest import TimeFrame\n",
    "from MCForecastTools import MCSimulation\n",
    "from datetime import date\n",
    "from datetime import timedelta\n",
    "from numpy import timedelta64\n",
    "\n",
    "%matplotlib inline"
   ]
  },
  {
   "cell_type": "code",
   "execution_count": 45,
   "metadata": {},
   "outputs": [
    {
     "data": {
      "text/plain": [
       "True"
      ]
     },
     "execution_count": 45,
     "metadata": {},
     "output_type": "execute_result"
    }
   ],
   "source": [
    "# Load the environment variables from the .env file\n",
    "# by calling the load_dotenv function. The result must be True in the output cell if .env file was rightly loaded.\n",
    "load_dotenv()"
   ]
  },
  {
   "cell_type": "code",
   "execution_count": 22,
   "metadata": {},
   "outputs": [
    {
     "data": {
      "text/plain": [
       "str"
      ]
     },
     "execution_count": 22,
     "metadata": {},
     "output_type": "execute_result"
    }
   ],
   "source": [
    "# Check the status of env settings. Type of str in the output cell means python code can access the key-value right.\n",
    "api_key = os.getenv(\"NASDAQ_API_KEY\")\n",
    "type(api_key)"
   ]
  },
  {
   "cell_type": "markdown",
   "metadata": {},
   "source": [
    "## Part 1: Create a Financial Planner for Emergencies"
   ]
  },
  {
   "cell_type": "markdown",
   "metadata": {},
   "source": [
    "### Evaluate the Cryptocurrency Wallet by Using the Requests Library\n",
    "\n",
    "In this section, you’ll determine the current value of a member’s cryptocurrency wallet. You’ll collect the current prices for the Bitcoin and Ethereum cryptocurrencies by using the Python Requests library. For the prototype, you’ll assume that the member holds the 1.2 Bitcoins (BTC) and 5.3 Ethereum coins (ETH). To do all this, complete the following steps:\n",
    "\n",
    "1. Create a variable named `monthly_income`, and set its value to `12000`.\n",
    "\n",
    "2. Use the Requests library to get the current price (in US dollars) of Bitcoin (BTC) and Ethereum (ETH) by using the API endpoints that the starter code supplies.\n",
    "\n",
    "3. Navigate the JSON response object to access the current price of each coin, and store each in a variable.\n",
    "\n",
    "    > **Hint** Note the specific identifier for each cryptocurrency in the API JSON response. The Bitcoin identifier is `1`, and the Ethereum identifier is `1027`.\n",
    "\n",
    "4. Calculate the value, in US dollars, of the current amount of each cryptocurrency and of the entire cryptocurrency wallet.\n",
    "\n"
   ]
  },
  {
   "cell_type": "code",
   "execution_count": 36,
   "metadata": {},
   "outputs": [
    {
     "name": "stdout",
     "output_type": "stream",
     "text": [
      "The current numbers of BTC and ETH crypto assets in the portfolio are 1.2 and 5.3 respectively.\n"
     ]
    }
   ],
   "source": [
    "# The current number of coins for each cryptocurrency asset held in the portfolio.\n",
    "btc_coins = 1.2\n",
    "eth_coins = 5.3\n",
    "\n",
    "print(f\"The current numbers of BTC and ETH crypto assets in the portfolio are {btc_coins} and {eth_coins} respectively.\")"
   ]
  },
  {
   "cell_type": "markdown",
   "metadata": {},
   "source": [
    "#### Step 1: Create a variable named `monthly_income`, and set its value to `12000`."
   ]
  },
  {
   "cell_type": "code",
   "execution_count": 8,
   "metadata": {},
   "outputs": [
    {
     "name": "stdout",
     "output_type": "stream",
     "text": [
      "Monthly amount for the member's household income is 12000\n"
     ]
    }
   ],
   "source": [
    "# The monthly amount for the member's household income\n",
    "monthly_income = 12000\n",
    "\n",
    "print(f\"Monthly amount for the member's household income is {monthly_income}\")"
   ]
  },
  {
   "cell_type": "markdown",
   "metadata": {},
   "source": [
    "#### Review the endpoint URLs for the API calls to Free Crypto API in order to get the current pricing information for both BTC and ETH."
   ]
  },
  {
   "cell_type": "code",
   "execution_count": 24,
   "metadata": {},
   "outputs": [],
   "source": [
    "# The Free Crypto API Call endpoint URLs for the held cryptocurrency assets\n",
    "btc_url = \"https://api.alternative.me/v2/ticker/Bitcoin/?convert=USD\"\n",
    "eth_url = \"https://api.alternative.me/v2/ticker/Ethereum/?convert=USD\""
   ]
  },
  {
   "cell_type": "markdown",
   "metadata": {},
   "source": [
    "#### Step 2. Use the Requests library to get the current price (in US dollars) of Bitcoin (BTC) and Ethereum (ETH) by using the API endpoints that the starter code supplied."
   ]
  },
  {
   "cell_type": "code",
   "execution_count": 25,
   "metadata": {},
   "outputs": [
    {
     "name": "stdout",
     "output_type": "stream",
     "text": [
      "{\n",
      " \"data\": {\n",
      "  \"1\": {\n",
      "   \"circulating_supply\": 19173200,\n",
      "   \"id\": 1,\n",
      "   \"last_updated\": 1665242002,\n",
      "   \"max_supply\": 21000000,\n",
      "   \"name\": \"Bitcoin\",\n",
      "   \"quotes\": {\n",
      "    \"USD\": {\n",
      "     \"market_cap\": 373815144545,\n",
      "     \"percent_change_1h\": 0.0388955509450091,\n",
      "     \"percent_change_24h\": -0.624001520603579,\n",
      "     \"percent_change_7d\": 0.0678988626228079,\n",
      "     \"percentage_change_1h\": 0.0388955509450091,\n",
      "     \"percentage_change_24h\": -0.624001520603579,\n",
      "     \"percentage_change_7d\": 0.0678988626228079,\n",
      "     \"price\": 19490.15,\n",
      "     \"volume_24h\": 16202267954\n",
      "    }\n",
      "   },\n",
      "   \"rank\": 1,\n",
      "   \"symbol\": \"BTC\",\n",
      "   \"total_supply\": 19173200,\n",
      "   \"website_slug\": \"bitcoin\"\n",
      "  }\n",
      " },\n",
      " \"metadata\": {\n",
      "  \"error\": null,\n",
      "  \"num_cryptocurrencies\": 3116,\n",
      "  \"timestamp\": 1665242002\n",
      " }\n",
      "}\n"
     ]
    }
   ],
   "source": [
    "# Using the Python requests library, make an API call to access the current price of BTC\n",
    "btc_response = requests.get(btc_url).json()\n",
    "\n",
    "# Use the json.dumps function to review the response data from the API call\n",
    "# Use the indent and sort_keys parameters to make the response object readable\n",
    "print(json.dumps(btc_response, indent=True, sort_keys=True))\n"
   ]
  },
  {
   "cell_type": "code",
   "execution_count": 26,
   "metadata": {},
   "outputs": [
    {
     "name": "stdout",
     "output_type": "stream",
     "text": [
      "{\n",
      " \"data\": {\n",
      "  \"1027\": {\n",
      "   \"circulating_supply\": 120866569,\n",
      "   \"id\": 1027,\n",
      "   \"last_updated\": 1665241993,\n",
      "   \"max_supply\": 120865605,\n",
      "   \"name\": \"Ethereum\",\n",
      "   \"quotes\": {\n",
      "    \"USD\": {\n",
      "     \"market_cap\": 160118478731,\n",
      "     \"percent_change_1h\": -0.084104081958019,\n",
      "     \"percent_change_24h\": -1.05212742676412,\n",
      "     \"percent_change_7d\": -0.373935889024373,\n",
      "     \"percentage_change_1h\": -0.084104081958019,\n",
      "     \"percentage_change_24h\": -1.05212742676412,\n",
      "     \"percentage_change_7d\": -0.373935889024373,\n",
      "     \"price\": 1324.18,\n",
      "     \"volume_24h\": 5865511548\n",
      "    }\n",
      "   },\n",
      "   \"rank\": 2,\n",
      "   \"symbol\": \"ETH\",\n",
      "   \"total_supply\": 120866569,\n",
      "   \"website_slug\": \"ethereum\"\n",
      "  }\n",
      " },\n",
      " \"metadata\": {\n",
      "  \"error\": null,\n",
      "  \"num_cryptocurrencies\": 3116,\n",
      "  \"timestamp\": 1665241993\n",
      " }\n",
      "}\n"
     ]
    }
   ],
   "source": [
    "# Using the Python requests library, make an API call to access the current price ETH\n",
    "eth_response = requests.get(eth_url).json()\n",
    "\n",
    "# Use the json.dumps function to review the response data from the API call\n",
    "# Use the indent and sort_keys parameters to make the response object readable\n",
    "print(json.dumps(eth_response, indent=True, sort_keys=True))\n"
   ]
  },
  {
   "cell_type": "markdown",
   "metadata": {},
   "source": [
    "#### Step 3: Navigate the JSON response object to access the current price of each coin, and store each in a variable."
   ]
  },
  {
   "cell_type": "code",
   "execution_count": 34,
   "metadata": {},
   "outputs": [
    {
     "name": "stdout",
     "output_type": "stream",
     "text": [
      "The current BTC price is: 19490.15\n"
     ]
    }
   ],
   "source": [
    "# Navigate the BTC response object to access the current price of BTC\n",
    "btc_price = btc_response['data']['1']['quotes']['USD']['price']\n",
    "\n",
    "# Print the current price of BTC\n",
    "print(f\"The current BTC price is: {btc_price}\")\n"
   ]
  },
  {
   "cell_type": "code",
   "execution_count": 35,
   "metadata": {},
   "outputs": [
    {
     "name": "stdout",
     "output_type": "stream",
     "text": [
      "The current ETH price is: 1324.18\n"
     ]
    }
   ],
   "source": [
    "# Navigate the BTC response object to access the current price of ETH\n",
    "eth_price = eth_response['data']['1027']['quotes']['USD']['price']\n",
    "\n",
    "# Print the current price of ETH\n",
    "print(f\"The current ETH price is: {eth_price}\")\n"
   ]
  },
  {
   "cell_type": "markdown",
   "metadata": {},
   "source": [
    "### Step 4: Calculate the value, in US dollars, of the current amount of each cryptocurrency and of the entire cryptocurrency wallet."
   ]
  },
  {
   "cell_type": "code",
   "execution_count": 37,
   "metadata": {},
   "outputs": [
    {
     "name": "stdout",
     "output_type": "stream",
     "text": [
      "Compute the current value of the BTC holding: 23388.18\n"
     ]
    }
   ],
   "source": [
    "# Compute the current value of the BTC holding\n",
    "# Total BTC holding is a product of total BTC assets and BTC unit price\n",
    "btc_value = btc_coins * btc_price\n",
    "\n",
    "# Print current value of your holding in BTC\n",
    "print(f\"Compute the current value of the BTC holding: {btc_value}\")\n"
   ]
  },
  {
   "cell_type": "code",
   "execution_count": 38,
   "metadata": {},
   "outputs": [
    {
     "name": "stdout",
     "output_type": "stream",
     "text": [
      "Compute the current value of the ETH holding: 7018.154\n"
     ]
    }
   ],
   "source": [
    "# Compute the current value of the ETH holding\n",
    "# Total ETH holding is a product of total ETH assets and ETH unit price\n",
    "eth_value = eth_coins * eth_price\n",
    "\n",
    "# Print current value of your holding in ETH\n",
    "print(f\"Compute the current value of the ETH holding: {eth_value}\")"
   ]
  },
  {
   "cell_type": "code",
   "execution_count": 40,
   "metadata": {},
   "outputs": [
    {
     "name": "stdout",
     "output_type": "stream",
     "text": [
      "The total value of the cryptocurrency wallet in the portfolio is: 30406.33\n"
     ]
    }
   ],
   "source": [
    "# Compute the total value of the cryptocurrency wallet\n",
    "# Add the value of the BTC holding to the value of the ETH holding\n",
    "total_crypto_wallet = btc_value + eth_value\n",
    "\n",
    "# Print current cryptocurrency wallet balance\n",
    "print(f\"The total value of the cryptocurrency wallet in the portfolio is: {round(total_crypto_wallet, 2)}\")\n"
   ]
  },
  {
   "cell_type": "markdown",
   "metadata": {},
   "source": [
    "### Evaluate the Stock and Bond Holdings by Using the Alpaca SDK\n",
    "\n",
    "In this section, you’ll determine the current value of a member’s stock and bond holdings. You’ll make an API call to Alpaca via the Alpaca SDK to get the current closing prices of the SPDR S&P 500 ETF Trust (ticker: SPY) and of the iShares Core US Aggregate Bond ETF (ticker: AGG). For the prototype, assume that the member holds 110 shares of SPY, which represents the stock portion of their portfolio, and 200 shares of AGG, which represents the bond portion. To do all this, complete the following steps:\n",
    "\n",
    "1. In the `Starter_Code` folder, create an environment file (`.env`) to store the values of your Alpaca API key and Alpaca secret key.\n",
    "\n",
    "2. Set the variables for the Alpaca API and secret keys. Using the Alpaca SDK, create the Alpaca `tradeapi.REST` object. In this object, include the parameters for the Alpaca API key, the secret key, and the version number.\n",
    "\n",
    "3. Set the following parameters for the Alpaca API call:\n",
    "\n",
    "    - `tickers`: Use the tickers for the member’s stock and bond holdings.\n",
    "\n",
    "    - `timeframe`: Use a time frame of one day.\n",
    "\n",
    "    - `start_date` and `end_date`: Use the same date for these parameters, and format them with the date of the previous weekday (or `2020-08-07`). This is because you want the one closing price for the most-recent trading day.\n",
    "\n",
    "4. Get the current closing prices for `SPY` and `AGG` by using the Alpaca `get_bars` function. Format the response as a Pandas DataFrame by including the `df` property at the end of the `get_bars` function.\n",
    "\n",
    "5. Navigating the Alpaca response DataFrame, select the `SPY` and `AGG` closing prices, and store them as variables.\n",
    "\n",
    "6. Calculate the value, in US dollars, of the current amount of shares in each of the stock and bond portions of the portfolio, and print the results.\n"
   ]
  },
  {
   "cell_type": "markdown",
   "metadata": {},
   "source": [
    "#### Review the total number of shares held in both (SPY) and (AGG)."
   ]
  },
  {
   "cell_type": "code",
   "execution_count": 41,
   "metadata": {},
   "outputs": [
    {
     "name": "stdout",
     "output_type": "stream",
     "text": [
      "Current amount of shares held in both the stock (SPY) and bond (AGG) portion of the portfolio: 110 and 200 respectively.\n"
     ]
    }
   ],
   "source": [
    "# Current amount of shares held in both the stock (SPY) and bond (AGG) portion of the portfolio.\n",
    "spy_shares = 110\n",
    "agg_shares = 200\n",
    "\n",
    "print(f\"Current amount of shares held in both the stock (SPY) and bond (AGG) portion of the portfolio: {spy_shares} and {agg_shares} respectively.\")"
   ]
  },
  {
   "cell_type": "markdown",
   "metadata": {},
   "source": [
    "#### Step 1: In the `Starter_Code` folder, create an environment file (`.env`) to store the values of your Alpaca API key and Alpaca secret key."
   ]
  },
  {
   "cell_type": "markdown",
   "metadata": {},
   "source": [
    "#### Step 2: Set the variables for the Alpaca API and secret keys. Using the Alpaca SDK, create the Alpaca `tradeapi.REST` object. In this object, include the parameters for the Alpaca API key, the secret key, and the version number."
   ]
  },
  {
   "cell_type": "code",
   "execution_count": 46,
   "metadata": {},
   "outputs": [
    {
     "data": {
      "text/plain": [
       "str"
      ]
     },
     "metadata": {},
     "output_type": "display_data"
    },
    {
     "data": {
      "text/plain": [
       "str"
      ]
     },
     "metadata": {},
     "output_type": "display_data"
    },
    {
     "name": "stdout",
     "output_type": "stream",
     "text": [
      "The Alpaca tradeapi.REST object initialized.\n"
     ]
    }
   ],
   "source": [
    "# Set the variables for the Alpaca API and secret keys\n",
    "alpaca_api_key = os.getenv(\"ALPACA_API_KEY\")\n",
    "alpaca_secret_key = os.getenv(\"ALPACA_SECRET_KEY\")\n",
    "\n",
    "# Check the values were imported correctly by evaluating the type of each.\n",
    "# Type str in the output means .env loaded right.\n",
    "display(type(alpaca_api_key))\n",
    "display(type(alpaca_secret_key))\n",
    "# Create the Alpaca tradeapi.REST object\n",
    "# Set the parameters to the alpaca_api_key, alpaca_secret_key and api_version=\"v2\" \n",
    "alpaca = tradeapi.REST(\n",
    "    alpaca_api_key,\n",
    "    alpaca_secret_key,\n",
    "    api_version=\"v2\"\n",
    "    )\n",
    "\n",
    "print(\"The Alpaca tradeapi.REST object initialized.\")"
   ]
  },
  {
   "cell_type": "markdown",
   "metadata": {},
   "source": [
    "#### Step 3: Set the following parameters for the Alpaca API call:\n",
    "\n",
    "- `tickers`: Use the tickers for the member’s stock and bond holdings.\n",
    "\n",
    "- `timeframe`: Use a time frame of one day.\n",
    "\n",
    "- `start_date` and `end_date`: Use the same date for these parameters, and format them with the date of the previous weekday (or `2020-08-07`). This is because you want the one closing price for the most-recent trading day.\n"
   ]
  },
  {
   "cell_type": "code",
   "execution_count": 95,
   "metadata": {},
   "outputs": [
    {
     "name": "stdout",
     "output_type": "stream",
     "text": [
      "Today is: 2022-10-08\n",
      "Yesterday was: 2022-10-07\n"
     ]
    }
   ],
   "source": [
    "# Set the tickers for both the bond and stock portion of the portfolio\n",
    "# iShares Core US Aggregate Bond ETF: 'AGG'\n",
    "# SPDR S&P 500 ETF Trust: 'SPY'\n",
    "tickers = ['AGG', 'SPY']\n",
    "\n",
    "# Set timeframe to 1Day\n",
    "timeframe = \"1Day\"\n",
    "\n",
    "# Format current date as ISO format\n",
    "# Set both the start and end date at the date of your prior weekday \n",
    "# This will give you the closing price of the previous trading day\n",
    "# Alternatively you can use a start and end date of 2020-08-07\n",
    "\n",
    "# We will set the closing price for the most-recent trading day\n",
    "present_day = date.today()\n",
    "yesterday = present_day - timedelta(days = 1)   # change as needed for wkends\n",
    "\n",
    "# Format current date as ISO format\n",
    "start_date = pd.Timestamp(yesterday, tz = 'America/New_York').isoformat()\n",
    "end_date = pd.Timestamp(yesterday, tz = 'America/New_York').isoformat()\n",
    "print(f'Today is: {present_day}')\n",
    "print(f'Yesterday was: {yesterday}')\n"
   ]
  },
  {
   "cell_type": "markdown",
   "metadata": {},
   "source": [
    "#### Step 4: Get the current closing prices for `SPY` and `AGG` by using the Alpaca `get_bars` function. Format the response as a Pandas DataFrame by including the `df` property at the end of the `get_bars` function."
   ]
  },
  {
   "cell_type": "code",
   "execution_count": 74,
   "metadata": {},
   "outputs": [
    {
     "data": {
      "text/html": [
       "<div>\n",
       "<style scoped>\n",
       "    .dataframe tbody tr th:only-of-type {\n",
       "        vertical-align: middle;\n",
       "    }\n",
       "\n",
       "    .dataframe tbody tr th {\n",
       "        vertical-align: top;\n",
       "    }\n",
       "\n",
       "    .dataframe thead th {\n",
       "        text-align: right;\n",
       "    }\n",
       "</style>\n",
       "<table border=\"1\" class=\"dataframe\">\n",
       "  <thead>\n",
       "    <tr style=\"text-align: right;\">\n",
       "      <th></th>\n",
       "      <th>open</th>\n",
       "      <th>high</th>\n",
       "      <th>low</th>\n",
       "      <th>close</th>\n",
       "      <th>volume</th>\n",
       "      <th>trade_count</th>\n",
       "      <th>vwap</th>\n",
       "      <th>symbol</th>\n",
       "    </tr>\n",
       "    <tr>\n",
       "      <th>timestamp</th>\n",
       "      <th></th>\n",
       "      <th></th>\n",
       "      <th></th>\n",
       "      <th></th>\n",
       "      <th></th>\n",
       "      <th></th>\n",
       "      <th></th>\n",
       "      <th></th>\n",
       "    </tr>\n",
       "  </thead>\n",
       "  <tbody>\n",
       "    <tr>\n",
       "      <th>2022-10-07 04:00:00+00:00</th>\n",
       "      <td>95.81</td>\n",
       "      <td>96.0100</td>\n",
       "      <td>95.68</td>\n",
       "      <td>95.77</td>\n",
       "      <td>6149309</td>\n",
       "      <td>18717</td>\n",
       "      <td>95.836813</td>\n",
       "      <td>AGG</td>\n",
       "    </tr>\n",
       "    <tr>\n",
       "      <th>2022-10-07 04:00:00+00:00</th>\n",
       "      <td>369.06</td>\n",
       "      <td>373.2933</td>\n",
       "      <td>360.94</td>\n",
       "      <td>362.79</td>\n",
       "      <td>107239188</td>\n",
       "      <td>665841</td>\n",
       "      <td>365.065822</td>\n",
       "      <td>SPY</td>\n",
       "    </tr>\n",
       "  </tbody>\n",
       "</table>\n",
       "</div>"
      ],
      "text/plain": [
       "                             open      high     low   close     volume  \\\n",
       "timestamp                                                                \n",
       "2022-10-07 04:00:00+00:00   95.81   96.0100   95.68   95.77    6149309   \n",
       "2022-10-07 04:00:00+00:00  369.06  373.2933  360.94  362.79  107239188   \n",
       "\n",
       "                           trade_count        vwap symbol  \n",
       "timestamp                                                  \n",
       "2022-10-07 04:00:00+00:00        18717   95.836813    AGG  \n",
       "2022-10-07 04:00:00+00:00       665841  365.065822    SPY  "
      ]
     },
     "metadata": {},
     "output_type": "display_data"
    },
    {
     "name": "stdout",
     "output_type": "stream",
     "text": [
      "AGG and SPY closed at:\n"
     ]
    },
    {
     "data": {
      "text/html": [
       "<div>\n",
       "<style scoped>\n",
       "    .dataframe tbody tr th:only-of-type {\n",
       "        vertical-align: middle;\n",
       "    }\n",
       "\n",
       "    .dataframe tbody tr th {\n",
       "        vertical-align: top;\n",
       "    }\n",
       "\n",
       "    .dataframe thead th {\n",
       "        text-align: right;\n",
       "    }\n",
       "</style>\n",
       "<table border=\"1\" class=\"dataframe\">\n",
       "  <thead>\n",
       "    <tr style=\"text-align: right;\">\n",
       "      <th></th>\n",
       "      <th>close</th>\n",
       "      <th>symbol</th>\n",
       "    </tr>\n",
       "    <tr>\n",
       "      <th>timestamp</th>\n",
       "      <th></th>\n",
       "      <th></th>\n",
       "    </tr>\n",
       "  </thead>\n",
       "  <tbody>\n",
       "    <tr>\n",
       "      <th>2022-10-07 04:00:00+00:00</th>\n",
       "      <td>95.77</td>\n",
       "      <td>AGG</td>\n",
       "    </tr>\n",
       "    <tr>\n",
       "      <th>2022-10-07 04:00:00+00:00</th>\n",
       "      <td>362.79</td>\n",
       "      <td>SPY</td>\n",
       "    </tr>\n",
       "  </tbody>\n",
       "</table>\n",
       "</div>"
      ],
      "text/plain": [
       "                            close symbol\n",
       "timestamp                               \n",
       "2022-10-07 04:00:00+00:00   95.77    AGG\n",
       "2022-10-07 04:00:00+00:00  362.79    SPY"
      ]
     },
     "metadata": {},
     "output_type": "display_data"
    },
    {
     "data": {
      "text/html": [
       "<div>\n",
       "<style scoped>\n",
       "    .dataframe tbody tr th:only-of-type {\n",
       "        vertical-align: middle;\n",
       "    }\n",
       "\n",
       "    .dataframe tbody tr th {\n",
       "        vertical-align: top;\n",
       "    }\n",
       "\n",
       "    .dataframe thead tr th {\n",
       "        text-align: left;\n",
       "    }\n",
       "\n",
       "    .dataframe thead tr:last-of-type th {\n",
       "        text-align: right;\n",
       "    }\n",
       "</style>\n",
       "<table border=\"1\" class=\"dataframe\">\n",
       "  <thead>\n",
       "    <tr>\n",
       "      <th></th>\n",
       "      <th colspan=\"7\" halign=\"left\">AGG</th>\n",
       "      <th colspan=\"7\" halign=\"left\">SPY</th>\n",
       "    </tr>\n",
       "    <tr>\n",
       "      <th></th>\n",
       "      <th>open</th>\n",
       "      <th>high</th>\n",
       "      <th>low</th>\n",
       "      <th>close</th>\n",
       "      <th>volume</th>\n",
       "      <th>trade_count</th>\n",
       "      <th>vwap</th>\n",
       "      <th>open</th>\n",
       "      <th>high</th>\n",
       "      <th>low</th>\n",
       "      <th>close</th>\n",
       "      <th>volume</th>\n",
       "      <th>trade_count</th>\n",
       "      <th>vwap</th>\n",
       "    </tr>\n",
       "    <tr>\n",
       "      <th>timestamp</th>\n",
       "      <th></th>\n",
       "      <th></th>\n",
       "      <th></th>\n",
       "      <th></th>\n",
       "      <th></th>\n",
       "      <th></th>\n",
       "      <th></th>\n",
       "      <th></th>\n",
       "      <th></th>\n",
       "      <th></th>\n",
       "      <th></th>\n",
       "      <th></th>\n",
       "      <th></th>\n",
       "      <th></th>\n",
       "    </tr>\n",
       "  </thead>\n",
       "  <tbody>\n",
       "    <tr>\n",
       "      <th>2022-10-07 04:00:00+00:00</th>\n",
       "      <td>95.81</td>\n",
       "      <td>96.01</td>\n",
       "      <td>95.68</td>\n",
       "      <td>95.77</td>\n",
       "      <td>6149309</td>\n",
       "      <td>18717</td>\n",
       "      <td>95.836813</td>\n",
       "      <td>369.06</td>\n",
       "      <td>373.2933</td>\n",
       "      <td>360.94</td>\n",
       "      <td>362.79</td>\n",
       "      <td>107239188</td>\n",
       "      <td>665841</td>\n",
       "      <td>365.065822</td>\n",
       "    </tr>\n",
       "  </tbody>\n",
       "</table>\n",
       "</div>"
      ],
      "text/plain": [
       "                             AGG                                            \\\n",
       "                            open   high    low  close   volume trade_count   \n",
       "timestamp                                                                    \n",
       "2022-10-07 04:00:00+00:00  95.81  96.01  95.68  95.77  6149309       18717   \n",
       "\n",
       "                                         SPY                            \\\n",
       "                                vwap    open      high     low   close   \n",
       "timestamp                                                                \n",
       "2022-10-07 04:00:00+00:00  95.836813  369.06  373.2933  360.94  362.79   \n",
       "\n",
       "                                                              \n",
       "                              volume trade_count        vwap  \n",
       "timestamp                                                     \n",
       "2022-10-07 04:00:00+00:00  107239188      665841  365.065822  "
      ]
     },
     "execution_count": 74,
     "metadata": {},
     "output_type": "execute_result"
    }
   ],
   "source": [
    "# Use the Alpaca get_bars function to get current closing prices in the portfolio\n",
    "# Be sure to set the `df` property after the function to format the response object as a DataFrame\n",
    "portfolio_df = alpaca.get_bars(\n",
    "    tickers,\n",
    "    timeframe,\n",
    "    start=start_date,\n",
    "    end=end_date\n",
    ").df\n",
    "\n",
    "display(portfolio_df)\n",
    "\n",
    "agg_spy_closed_at = portfolio_df.iloc[:,[3, 7]]\n",
    "\n",
    "\n",
    "print(\"AGG and SPY closed at:\")\n",
    "display(agg_spy_closed_at)\n",
    "\n",
    "# Reorganize the DataFrame\n",
    "# Separate ticker data\n",
    "AGG = portfolio_df[portfolio_df['symbol']=='AGG'].drop('symbol', axis=1)\n",
    "SPY = portfolio_df[portfolio_df['symbol']=='SPY'].drop('symbol', axis=1)\n",
    "\n",
    "# Concatenate the ticker DataFrames\n",
    "portfolio_df = pd.concat([AGG, SPY], axis=1, keys=[\"AGG\", \"SPY\"])\n",
    "\n",
    "# Review the first 5 rows of the Alpaca DataFrame\n",
    "portfolio_df.head()\n"
   ]
  },
  {
   "cell_type": "markdown",
   "metadata": {},
   "source": [
    "#### Step 5: Navigating the Alpaca response DataFrame, select the `SPY` and `AGG` closing prices, and store them as variables."
   ]
  },
  {
   "cell_type": "code",
   "execution_count": 65,
   "metadata": {},
   "outputs": [
    {
     "name": "stdout",
     "output_type": "stream",
     "text": [
      "AGG closing price is: 95.77\n"
     ]
    }
   ],
   "source": [
    "# Access the closing price for AGG from the Alpaca DataFrame\n",
    "# Converting the value to a floating point number\n",
    "agg_close_price = float(portfolio_df['AGG']['close'])\n",
    "\n",
    "# Print the AGG closing price\n",
    "print(f\"AGG closing price is: {agg_close_price}\")\n"
   ]
  },
  {
   "cell_type": "code",
   "execution_count": 75,
   "metadata": {},
   "outputs": [
    {
     "name": "stdout",
     "output_type": "stream",
     "text": [
      "SPY closing price is: 362.79\n"
     ]
    }
   ],
   "source": [
    "# Access the closing price for SPY from the Alpaca DataFrame\n",
    "# Converting the value to a floating point number\n",
    "spy_close_price = float(portfolio_df['SPY']['close'])\n",
    "\n",
    "# Print the SPY closing price\n",
    "print(f\"SPY closing price is: {spy_close_price}\")\n"
   ]
  },
  {
   "cell_type": "markdown",
   "metadata": {},
   "source": [
    "#### Step 6: Calculate the value, in US dollars, of the current amount of shares in each of the stock and bond portions of the portfolio, and print the results."
   ]
  },
  {
   "cell_type": "code",
   "execution_count": 67,
   "metadata": {},
   "outputs": [
    {
     "name": "stdout",
     "output_type": "stream",
     "text": [
      "The current value of the AGG bond in the portfolio is : 19154.0\n"
     ]
    }
   ],
   "source": [
    "# Calculate the current value of the bond portion of the portfolio\n",
    "agg_value = agg_shares * agg_close_price\n",
    "\n",
    "# Print the current value of the bond portfolio\n",
    "print(f\"The current value of the AGG bond in the portfolio is : {agg_value}\")\n"
   ]
  },
  {
   "cell_type": "code",
   "execution_count": 76,
   "metadata": {},
   "outputs": [
    {
     "name": "stdout",
     "output_type": "stream",
     "text": [
      "The current value of the SPY stock in the portfolio is : 39906.9\n"
     ]
    }
   ],
   "source": [
    "# Calculate the current value of the stock portion of the portfolio\n",
    "spy_value = spy_shares * spy_close_price\n",
    "\n",
    "# Print the current value of the stock portfolio\n",
    "print(f\"The current value of the SPY stock in the portfolio is : {spy_value}\")\n"
   ]
  },
  {
   "cell_type": "code",
   "execution_count": 77,
   "metadata": {},
   "outputs": [
    {
     "name": "stdout",
     "output_type": "stream",
     "text": [
      "The total value of the stock and bond portion of the portfolio is: 59060.9\n"
     ]
    }
   ],
   "source": [
    "# Calculate the total value of the stock and bond portion of the portfolio\n",
    "total_stocks_bonds = agg_value + spy_value\n",
    "\n",
    "# Print the current balance of the stock and bond portion of the portfolio\n",
    "print(f\"The total value of the stock and bond portion of the portfolio is: {total_stocks_bonds}\")\n"
   ]
  },
  {
   "cell_type": "code",
   "execution_count": 79,
   "metadata": {},
   "outputs": [
    {
     "name": "stdout",
     "output_type": "stream",
     "text": [
      "The current cryptocurrency wallet balance is: $30406.33\n",
      "The total value of the member's entire savings portfolio is: $89467.23\n"
     ]
    }
   ],
   "source": [
    "# Calculate the total value of the member's entire savings portfolio\n",
    "# Add the value of the cryptocurrency wallet to the value of the total stocks and bonds\n",
    "total_portfolio = total_crypto_wallet + total_stocks_bonds\n",
    "\n",
    "# Print current cryptocurrency wallet balance\n",
    "print(f\"The current cryptocurrency wallet balance is: ${round(total_crypto_wallet, 2)}\")\n",
    "\n",
    "# Print total value of the member's entire savings portfolio\n",
    "print(f\"The total value of the member's entire savings portfolio is: ${round(total_portfolio, 2)}\")\n"
   ]
  },
  {
   "cell_type": "markdown",
   "metadata": {},
   "source": [
    "### Evaluate the Emergency Fund\n",
    "\n",
    "In this section, you’ll use the valuations for the cryptocurrency wallet and for the stock and bond portions of the portfolio to determine if the credit union member has enough savings to build an emergency fund into their financial plan. To do this, complete the following steps:\n",
    "\n",
    "1. Create a Python list named `savings_data` that has two elements. The first element contains the total value of the cryptocurrency wallet. The second element contains the total value of the stock and bond portions of the portfolio.\n",
    "\n",
    "2. Use the `savings_data` list to create a Pandas DataFrame named `savings_df`, and then display this DataFrame. The function to create the DataFrame should take the following three parameters:\n",
    "\n",
    "    - `savings_data`: Use the list that you just created.\n",
    "\n",
    "    - `columns`: Set this parameter equal to a Python list with a single value called `amount`.\n",
    "\n",
    "    - `index`: Set this parameter equal to a Python list with the values of `crypto` and `stock/bond`.\n",
    "\n",
    "3. Use the `savings_df` DataFrame to plot a pie chart that visualizes the composition of the member’s portfolio. The y-axis of the pie chart uses `amount`. Be sure to add a title.\n",
    "\n",
    "4. Using Python, determine if the current portfolio has enough to create an emergency fund as part of the member’s financial plan. Ideally, an emergency fund should equal to three times the member’s monthly income. To do this, implement the following steps:\n",
    "\n",
    "    1. Create a variable named `emergency_fund_value`, and set it equal to three times the value of the member’s `monthly_income` of $12000. (You set this earlier in Part 1).\n",
    "\n",
    "    2. Create a series of three if statements to determine if the member’s total portfolio is large enough to fund the emergency portfolio:\n",
    "\n",
    "        1. If the total portfolio value is greater than the emergency fund value, display a message congratulating the member for having enough money in this fund.\n",
    "\n",
    "        2. Else if the total portfolio value is equal to the emergency fund value, display a message congratulating the member on reaching this important financial goal.\n",
    "\n",
    "        3. Else the total portfolio is less than the emergency fund value, so display a message showing how many dollars away the member is from reaching the goal. (Subtract the total portfolio value from the emergency fund value.)\n"
   ]
  },
  {
   "cell_type": "markdown",
   "metadata": {},
   "source": [
    "#### Step 1: Create a Python list named `savings_data` that has two elements. The first element contains the total value of the cryptocurrency wallet. The second element contains the total value of the stock and bond portions of the portfolio."
   ]
  },
  {
   "cell_type": "code",
   "execution_count": 80,
   "metadata": {},
   "outputs": [
    {
     "data": {
      "text/plain": [
       "[30406.334000000003, 59060.9]"
      ]
     },
     "metadata": {},
     "output_type": "display_data"
    }
   ],
   "source": [
    "# Consolidate financial assets data into a Python list\n",
    "savings_data = [total_crypto_wallet, total_stocks_bonds]\n",
    "\n",
    "# Review the Python list savings_data\n",
    "display(savings_data)\n",
    "    "
   ]
  },
  {
   "cell_type": "markdown",
   "metadata": {},
   "source": [
    "#### Step 2: Use the `savings_data` list to create a Pandas DataFrame named `savings_df`, and then display this DataFrame. The function to create the DataFrame should take the following three parameters:\n",
    "\n",
    "- `savings_data`: Use the list that you just created.\n",
    "\n",
    "- `columns`: Set this parameter equal to a Python list with a single value called `amount`.\n",
    "\n",
    "- `index`: Set this parameter equal to a Python list with the values of `crypto` and `stock/bond`.\n"
   ]
  },
  {
   "cell_type": "code",
   "execution_count": 81,
   "metadata": {},
   "outputs": [
    {
     "data": {
      "text/html": [
       "<div>\n",
       "<style scoped>\n",
       "    .dataframe tbody tr th:only-of-type {\n",
       "        vertical-align: middle;\n",
       "    }\n",
       "\n",
       "    .dataframe tbody tr th {\n",
       "        vertical-align: top;\n",
       "    }\n",
       "\n",
       "    .dataframe thead th {\n",
       "        text-align: right;\n",
       "    }\n",
       "</style>\n",
       "<table border=\"1\" class=\"dataframe\">\n",
       "  <thead>\n",
       "    <tr style=\"text-align: right;\">\n",
       "      <th></th>\n",
       "      <th>amount</th>\n",
       "    </tr>\n",
       "  </thead>\n",
       "  <tbody>\n",
       "    <tr>\n",
       "      <th>crypto</th>\n",
       "      <td>30406.334</td>\n",
       "    </tr>\n",
       "    <tr>\n",
       "      <th>stock/bond</th>\n",
       "      <td>59060.900</td>\n",
       "    </tr>\n",
       "  </tbody>\n",
       "</table>\n",
       "</div>"
      ],
      "text/plain": [
       "               amount\n",
       "crypto      30406.334\n",
       "stock/bond  59060.900"
      ]
     },
     "metadata": {},
     "output_type": "display_data"
    }
   ],
   "source": [
    "# Create a Pandas DataFrame called savings_df \n",
    "savings_df = pd.DataFrame(\n",
    "    savings_data,\n",
    "    columns=['amount'],\n",
    "    index=['crypto', 'stock/bond']\n",
    ")\n",
    "\n",
    "# Display the savings_df DataFrame\n",
    "display(savings_df)"
   ]
  },
  {
   "cell_type": "markdown",
   "metadata": {},
   "source": [
    "#### Step 3: Use the `savings_df` DataFrame to plot a pie chart that visualizes the composition of the member’s portfolio. The y-axis of the pie chart uses `amount`. Be sure to add a title."
   ]
  },
  {
   "cell_type": "code",
   "execution_count": 82,
   "metadata": {},
   "outputs": [
    {
     "data": {
      "text/plain": [
       "<AxesSubplot:title={'center':'Portfolio Composition By: 2022-10-07'}, ylabel='amount'>"
      ]
     },
     "execution_count": 82,
     "metadata": {},
     "output_type": "execute_result"
    },
    {
     "data": {
      "image/png": "[encoded data removed]",
      "text/plain": [
       "<Figure size 720x504 with 1 Axes>"
      ]
     },
     "metadata": {},
     "output_type": "display_data"
    }
   ],
   "source": [
    "# Plot the total value of the member's portfolio (crypto and stock/bond) in a pie chart\n",
    "savings_df.plot.pie(y='amount', title= f'Portfolio Composition By: {yesterday}', figsize=(10,7))"
   ]
  },
  {
   "cell_type": "markdown",
   "metadata": {},
   "source": [
    "#### Step 4: Using Python, determine if the current portfolio has enough to create an emergency fund as part of the member’s financial plan. Ideally, an emergency fund should equal to three times the member’s monthly income. To do this, implement the following steps:\n",
    "\n",
    "Step 1. Create a variable named `emergency_fund_value`, and set it equal to three times the value of the member’s `monthly_income` of 12000. (You set this earlier in Part 1).\n",
    "\n",
    "Step 2. Create a series of three if statements to determine if the member’s total portfolio is large enough to fund the emergency portfolio:\n",
    "\n",
    "* If the total portfolio value is greater than the emergency fund value, display a message congratulating the member for having enough money in this fund.\n",
    "\n",
    "* Else if the total portfolio value is equal to the emergency fund value, display a message congratulating the member on reaching this important financial goal.\n",
    "\n",
    "* Else the total portfolio is less than the emergency fund value, so display a message showing how many dollars away the member is from reaching the goal. (Subtract the total portfolio value from the emergency fund value.)\n"
   ]
  },
  {
   "cell_type": "markdown",
   "metadata": {},
   "source": [
    "##### Step 4-1: Create a variable named `emergency_fund_value`, and set it equal to three times the value of the member’s `monthly_income` of 12000. (You set this earlier in Part 1)."
   ]
  },
  {
   "cell_type": "code",
   "execution_count": 83,
   "metadata": {},
   "outputs": [
    {
     "name": "stdout",
     "output_type": "stream",
     "text": [
      "Monthly amount for the member's household income is 12000\n",
      "Emergency Fund set at: 36000\n"
     ]
    }
   ],
   "source": [
    "# Create a variable named emergency_fund_value\n",
    "print(f\"Monthly amount for the member's household income is {monthly_income}\")\n",
    "\n",
    "emergency_fund_value = monthly_income * 3\n",
    "print(f\"Emergency Fund set at: {emergency_fund_value}\")"
   ]
  },
  {
   "cell_type": "markdown",
   "metadata": {},
   "source": [
    "##### Step 4-2: Create a series of three if statements to determine if the member’s total portfolio is large enough to fund the emergency portfolio:\n",
    "\n",
    "* If the total portfolio value is greater than the emergency fund value, display a message congratulating the member for having enough money in this fund.\n",
    "\n",
    "* Else if the total portfolio value is equal to the emergency fund value, display a message congratulating the member on reaching this important financial goal.\n",
    "\n",
    "* Else the total portfolio is less than the emergency fund value, so display a message showing how many dollars away the member is from reaching the goal. (Subtract the total portfolio value from the emergency fund value.)"
   ]
  },
  {
   "cell_type": "code",
   "execution_count": 84,
   "metadata": {},
   "outputs": [
    {
     "name": "stdout",
     "output_type": "stream",
     "text": [
      "Congratulations, our valued credit union member! With $89467.23 in your acount, you have enough fund to manage during emergency!\n"
     ]
    }
   ],
   "source": [
    "# Evaluate the possibility of creating an emergency fund with 3 conditions:\n",
    "if total_portfolio > emergency_fund_value:\n",
    "    print(f'Congratulations, our valued credit union member! With ${total_portfolio:.2f} in your acount, you have enough fund to manage during emergency!')\n",
    "elif total_portfolio == emergency_fund_value:\n",
    "    print(f'Congratulations, our valued credit union member! With ${total_portfolio:.2f} so far in your account, you have reached the important financial goal!')\n",
    "else:\n",
    "    print(f'Our valued credit union member, you savings are ${emergency_fund_value - total_portfolio} short of the goal to create a healthy emergency fund.')"
   ]
  },
  {
   "cell_type": "markdown",
   "metadata": {},
   "source": [
    "## Part 2: Create a Financial Planner for Retirement"
   ]
  },
  {
   "cell_type": "markdown",
   "metadata": {},
   "source": [
    "### Create the Monte Carlo Simulation\n",
    "\n",
    "In this section, you’ll use the MCForecastTools library to create a Monte Carlo simulation for the member’s savings portfolio. To do this, complete the following steps:\n",
    "\n",
    "1. Make an API call via the Alpaca SDK to get 3 years of historical closing prices for a traditional 60/40 portfolio split: 60% stocks (SPY) and 40% bonds (AGG).\n",
    "\n",
    "2. Run a Monte Carlo simulation of 500 samples and 30 years for the 60/40 portfolio, and then plot the results.The following image shows the overlay line plot resulting from a simulation with these characteristics. However, because a random number generator is used to run each live Monte Carlo simulation, your image will differ slightly from this exact image:\n",
    "\n",
    "![A screenshot depicts the resulting plot.](Images/5-4-monte-carlo-line-plot.png)\n",
    "\n",
    "3. Plot the probability distribution of the Monte Carlo simulation. Plot the probability distribution of the Monte Carlo simulation. The following image shows the histogram plot resulting from a simulation with these characteristics. However, because a random number generator is used to run each live Monte Carlo simulation, your image will differ slightly from this exact image:\n",
    "\n",
    "![A screenshot depicts the histogram plot.](Images/5-4-monte-carlo-histogram.png)\n",
    "\n",
    "4. Generate the summary statistics for the Monte Carlo simulation.\n",
    "\n"
   ]
  },
  {
   "cell_type": "markdown",
   "metadata": {},
   "source": [
    "#### Step 1: Make an API call via the Alpaca SDK to get 3 years of historical closing prices for a traditional 60/40 portfolio split: 60% stocks (SPY) and 40% bonds (AGG)."
   ]
  },
  {
   "cell_type": "code",
   "execution_count": 88,
   "metadata": {},
   "outputs": [
    {
     "name": "stdout",
     "output_type": "stream",
     "text": [
      "Begin date is: 2019-10-08T21:47:19.839159-04:00\n",
      "Current date is: 2022-10-08T15:14:55.839159-04:00\n"
     ]
    }
   ],
   "source": [
    "# Set start and end dates of 3 years back from your current date\n",
    "# Alternatively, you can use an end date of 2020-08-07 and work 3 years back from that date\n",
    "# We will set the end date as current date, whic is today\n",
    "end_date_3yrs = pd.to_datetime('today')\n",
    "start_date_3yrs = end_date_3yrs - timedelta64(3, 'Y')\n",
    "\n",
    "# Format current date as ISO format\n",
    "start_3yrs = pd.Timestamp(start_date_3yrs, tz = 'America/New_York').isoformat()\n",
    "end_3yrs = pd.Timestamp(end_date_3yrs, tz = 'America/New_York').isoformat()\n",
    "\n",
    "print(f'Begin date is: {start_3yrs}')\n",
    "print(f'Current date is: {end_3yrs}')"
   ]
  },
  {
   "cell_type": "code",
   "execution_count": 97,
   "metadata": {},
   "outputs": [
    {
     "name": "stdout",
     "output_type": "stream",
     "text": [
      "Tickers are: ['AGG', 'SPY']. Timeframe is: 1Day.\n"
     ]
    },
    {
     "data": {
      "text/html": [
       "<div>\n",
       "<style scoped>\n",
       "    .dataframe tbody tr th:only-of-type {\n",
       "        vertical-align: middle;\n",
       "    }\n",
       "\n",
       "    .dataframe tbody tr th {\n",
       "        vertical-align: top;\n",
       "    }\n",
       "\n",
       "    .dataframe thead th {\n",
       "        text-align: right;\n",
       "    }\n",
       "</style>\n",
       "<table border=\"1\" class=\"dataframe\">\n",
       "  <thead>\n",
       "    <tr style=\"text-align: right;\">\n",
       "      <th></th>\n",
       "      <th>open</th>\n",
       "      <th>high</th>\n",
       "      <th>low</th>\n",
       "      <th>close</th>\n",
       "      <th>volume</th>\n",
       "      <th>trade_count</th>\n",
       "      <th>vwap</th>\n",
       "      <th>symbol</th>\n",
       "    </tr>\n",
       "    <tr>\n",
       "      <th>timestamp</th>\n",
       "      <th></th>\n",
       "      <th></th>\n",
       "      <th></th>\n",
       "      <th></th>\n",
       "      <th></th>\n",
       "      <th></th>\n",
       "      <th></th>\n",
       "      <th></th>\n",
       "    </tr>\n",
       "  </thead>\n",
       "  <tbody>\n",
       "    <tr>\n",
       "      <th>2019-10-09 04:00:00+00:00</th>\n",
       "      <td>113.55</td>\n",
       "      <td>113.5600</td>\n",
       "      <td>113.359</td>\n",
       "      <td>113.49</td>\n",
       "      <td>3333988</td>\n",
       "      <td>11224</td>\n",
       "      <td>113.459773</td>\n",
       "      <td>AGG</td>\n",
       "    </tr>\n",
       "    <tr>\n",
       "      <th>2019-10-10 04:00:00+00:00</th>\n",
       "      <td>113.27</td>\n",
       "      <td>113.3300</td>\n",
       "      <td>113.030</td>\n",
       "      <td>113.10</td>\n",
       "      <td>4312383</td>\n",
       "      <td>15063</td>\n",
       "      <td>113.115828</td>\n",
       "      <td>AGG</td>\n",
       "    </tr>\n",
       "    <tr>\n",
       "      <th>2019-10-11 04:00:00+00:00</th>\n",
       "      <td>112.84</td>\n",
       "      <td>112.8501</td>\n",
       "      <td>112.585</td>\n",
       "      <td>112.73</td>\n",
       "      <td>3568711</td>\n",
       "      <td>16380</td>\n",
       "      <td>112.714593</td>\n",
       "      <td>AGG</td>\n",
       "    </tr>\n",
       "    <tr>\n",
       "      <th>2019-10-14 04:00:00+00:00</th>\n",
       "      <td>112.93</td>\n",
       "      <td>112.9300</td>\n",
       "      <td>112.820</td>\n",
       "      <td>112.92</td>\n",
       "      <td>1716740</td>\n",
       "      <td>7655</td>\n",
       "      <td>112.887012</td>\n",
       "      <td>AGG</td>\n",
       "    </tr>\n",
       "    <tr>\n",
       "      <th>2019-10-15 04:00:00+00:00</th>\n",
       "      <td>112.90</td>\n",
       "      <td>112.9200</td>\n",
       "      <td>112.550</td>\n",
       "      <td>112.55</td>\n",
       "      <td>4168633</td>\n",
       "      <td>12909</td>\n",
       "      <td>112.627821</td>\n",
       "      <td>AGG</td>\n",
       "    </tr>\n",
       "  </tbody>\n",
       "</table>\n",
       "</div>"
      ],
      "text/plain": [
       "                             open      high      low   close   volume  \\\n",
       "timestamp                                                               \n",
       "2019-10-09 04:00:00+00:00  113.55  113.5600  113.359  113.49  3333988   \n",
       "2019-10-10 04:00:00+00:00  113.27  113.3300  113.030  113.10  4312383   \n",
       "2019-10-11 04:00:00+00:00  112.84  112.8501  112.585  112.73  3568711   \n",
       "2019-10-14 04:00:00+00:00  112.93  112.9300  112.820  112.92  1716740   \n",
       "2019-10-15 04:00:00+00:00  112.90  112.9200  112.550  112.55  4168633   \n",
       "\n",
       "                           trade_count        vwap symbol  \n",
       "timestamp                                                  \n",
       "2019-10-09 04:00:00+00:00        11224  113.459773    AGG  \n",
       "2019-10-10 04:00:00+00:00        15063  113.115828    AGG  \n",
       "2019-10-11 04:00:00+00:00        16380  112.714593    AGG  \n",
       "2019-10-14 04:00:00+00:00         7655  112.887012    AGG  \n",
       "2019-10-15 04:00:00+00:00        12909  112.627821    AGG  "
      ]
     },
     "metadata": {},
     "output_type": "display_data"
    },
    {
     "name": "stdout",
     "output_type": "stream",
     "text": [
      "\n",
      "\n"
     ]
    },
    {
     "data": {
      "text/html": [
       "<div>\n",
       "<style scoped>\n",
       "    .dataframe tbody tr th:only-of-type {\n",
       "        vertical-align: middle;\n",
       "    }\n",
       "\n",
       "    .dataframe tbody tr th {\n",
       "        vertical-align: top;\n",
       "    }\n",
       "\n",
       "    .dataframe thead th {\n",
       "        text-align: right;\n",
       "    }\n",
       "</style>\n",
       "<table border=\"1\" class=\"dataframe\">\n",
       "  <thead>\n",
       "    <tr style=\"text-align: right;\">\n",
       "      <th></th>\n",
       "      <th>open</th>\n",
       "      <th>high</th>\n",
       "      <th>low</th>\n",
       "      <th>close</th>\n",
       "      <th>volume</th>\n",
       "      <th>trade_count</th>\n",
       "      <th>vwap</th>\n",
       "      <th>symbol</th>\n",
       "    </tr>\n",
       "    <tr>\n",
       "      <th>timestamp</th>\n",
       "      <th></th>\n",
       "      <th></th>\n",
       "      <th></th>\n",
       "      <th></th>\n",
       "      <th></th>\n",
       "      <th></th>\n",
       "      <th></th>\n",
       "      <th></th>\n",
       "    </tr>\n",
       "  </thead>\n",
       "  <tbody>\n",
       "    <tr>\n",
       "      <th>2022-10-03 04:00:00+00:00</th>\n",
       "      <td>361.12</td>\n",
       "      <td>368.5500</td>\n",
       "      <td>359.2100</td>\n",
       "      <td>366.61</td>\n",
       "      <td>89052594</td>\n",
       "      <td>617784</td>\n",
       "      <td>364.702960</td>\n",
       "      <td>SPY</td>\n",
       "    </tr>\n",
       "    <tr>\n",
       "      <th>2022-10-04 04:00:00+00:00</th>\n",
       "      <td>372.45</td>\n",
       "      <td>378.0000</td>\n",
       "      <td>366.5677</td>\n",
       "      <td>377.97</td>\n",
       "      <td>102736573</td>\n",
       "      <td>683092</td>\n",
       "      <td>375.718180</td>\n",
       "      <td>SPY</td>\n",
       "    </tr>\n",
       "    <tr>\n",
       "      <th>2022-10-05 04:00:00+00:00</th>\n",
       "      <td>373.32</td>\n",
       "      <td>379.4600</td>\n",
       "      <td>370.9500</td>\n",
       "      <td>377.09</td>\n",
       "      <td>87641027</td>\n",
       "      <td>581349</td>\n",
       "      <td>375.456940</td>\n",
       "      <td>SPY</td>\n",
       "    </tr>\n",
       "    <tr>\n",
       "      <th>2022-10-06 04:00:00+00:00</th>\n",
       "      <td>375.65</td>\n",
       "      <td>378.7200</td>\n",
       "      <td>372.6800</td>\n",
       "      <td>373.20</td>\n",
       "      <td>81289636</td>\n",
       "      <td>577715</td>\n",
       "      <td>374.901554</td>\n",
       "      <td>SPY</td>\n",
       "    </tr>\n",
       "    <tr>\n",
       "      <th>2022-10-07 04:00:00+00:00</th>\n",
       "      <td>369.06</td>\n",
       "      <td>373.2933</td>\n",
       "      <td>360.9400</td>\n",
       "      <td>362.79</td>\n",
       "      <td>107239188</td>\n",
       "      <td>665841</td>\n",
       "      <td>365.065822</td>\n",
       "      <td>SPY</td>\n",
       "    </tr>\n",
       "  </tbody>\n",
       "</table>\n",
       "</div>"
      ],
      "text/plain": [
       "                             open      high       low   close     volume  \\\n",
       "timestamp                                                                  \n",
       "2022-10-03 04:00:00+00:00  361.12  368.5500  359.2100  366.61   89052594   \n",
       "2022-10-04 04:00:00+00:00  372.45  378.0000  366.5677  377.97  102736573   \n",
       "2022-10-05 04:00:00+00:00  373.32  379.4600  370.9500  377.09   87641027   \n",
       "2022-10-06 04:00:00+00:00  375.65  378.7200  372.6800  373.20   81289636   \n",
       "2022-10-07 04:00:00+00:00  369.06  373.2933  360.9400  362.79  107239188   \n",
       "\n",
       "                           trade_count        vwap symbol  \n",
       "timestamp                                                  \n",
       "2022-10-03 04:00:00+00:00       617784  364.702960    SPY  \n",
       "2022-10-04 04:00:00+00:00       683092  375.718180    SPY  \n",
       "2022-10-05 04:00:00+00:00       581349  375.456940    SPY  \n",
       "2022-10-06 04:00:00+00:00       577715  374.901554    SPY  \n",
       "2022-10-07 04:00:00+00:00       665841  365.065822    SPY  "
      ]
     },
     "metadata": {},
     "output_type": "display_data"
    },
    {
     "data": {
      "text/html": [
       "<div>\n",
       "<style scoped>\n",
       "    .dataframe tbody tr th:only-of-type {\n",
       "        vertical-align: middle;\n",
       "    }\n",
       "\n",
       "    .dataframe tbody tr th {\n",
       "        vertical-align: top;\n",
       "    }\n",
       "\n",
       "    .dataframe thead tr th {\n",
       "        text-align: left;\n",
       "    }\n",
       "\n",
       "    .dataframe thead tr:last-of-type th {\n",
       "        text-align: right;\n",
       "    }\n",
       "</style>\n",
       "<table border=\"1\" class=\"dataframe\">\n",
       "  <thead>\n",
       "    <tr>\n",
       "      <th></th>\n",
       "      <th colspan=\"7\" halign=\"left\">AGG</th>\n",
       "      <th colspan=\"7\" halign=\"left\">SPY</th>\n",
       "    </tr>\n",
       "    <tr>\n",
       "      <th></th>\n",
       "      <th>open</th>\n",
       "      <th>high</th>\n",
       "      <th>low</th>\n",
       "      <th>close</th>\n",
       "      <th>volume</th>\n",
       "      <th>trade_count</th>\n",
       "      <th>vwap</th>\n",
       "      <th>open</th>\n",
       "      <th>high</th>\n",
       "      <th>low</th>\n",
       "      <th>close</th>\n",
       "      <th>volume</th>\n",
       "      <th>trade_count</th>\n",
       "      <th>vwap</th>\n",
       "    </tr>\n",
       "    <tr>\n",
       "      <th>timestamp</th>\n",
       "      <th></th>\n",
       "      <th></th>\n",
       "      <th></th>\n",
       "      <th></th>\n",
       "      <th></th>\n",
       "      <th></th>\n",
       "      <th></th>\n",
       "      <th></th>\n",
       "      <th></th>\n",
       "      <th></th>\n",
       "      <th></th>\n",
       "      <th></th>\n",
       "      <th></th>\n",
       "      <th></th>\n",
       "    </tr>\n",
       "  </thead>\n",
       "  <tbody>\n",
       "    <tr>\n",
       "      <th>2019-10-09 04:00:00+00:00</th>\n",
       "      <td>113.55</td>\n",
       "      <td>113.5600</td>\n",
       "      <td>113.359</td>\n",
       "      <td>113.49</td>\n",
       "      <td>3333988</td>\n",
       "      <td>11224</td>\n",
       "      <td>113.459773</td>\n",
       "      <td>290.78</td>\n",
       "      <td>292.30</td>\n",
       "      <td>288.6559</td>\n",
       "      <td>291.27</td>\n",
       "      <td>67331098</td>\n",
       "      <td>295521</td>\n",
       "      <td>291.047068</td>\n",
       "    </tr>\n",
       "    <tr>\n",
       "      <th>2019-10-10 04:00:00+00:00</th>\n",
       "      <td>113.27</td>\n",
       "      <td>113.3300</td>\n",
       "      <td>113.030</td>\n",
       "      <td>113.10</td>\n",
       "      <td>4312383</td>\n",
       "      <td>15063</td>\n",
       "      <td>113.115828</td>\n",
       "      <td>291.14</td>\n",
       "      <td>294.21</td>\n",
       "      <td>291.0000</td>\n",
       "      <td>293.24</td>\n",
       "      <td>57265975</td>\n",
       "      <td>335440</td>\n",
       "      <td>292.960881</td>\n",
       "    </tr>\n",
       "    <tr>\n",
       "      <th>2019-10-11 04:00:00+00:00</th>\n",
       "      <td>112.84</td>\n",
       "      <td>112.8501</td>\n",
       "      <td>112.585</td>\n",
       "      <td>112.73</td>\n",
       "      <td>3568711</td>\n",
       "      <td>16380</td>\n",
       "      <td>112.714593</td>\n",
       "      <td>296.28</td>\n",
       "      <td>298.74</td>\n",
       "      <td>296.1448</td>\n",
       "      <td>296.28</td>\n",
       "      <td>101330616</td>\n",
       "      <td>503760</td>\n",
       "      <td>297.177407</td>\n",
       "    </tr>\n",
       "    <tr>\n",
       "      <th>2019-10-14 04:00:00+00:00</th>\n",
       "      <td>112.93</td>\n",
       "      <td>112.9300</td>\n",
       "      <td>112.820</td>\n",
       "      <td>112.92</td>\n",
       "      <td>1716740</td>\n",
       "      <td>7655</td>\n",
       "      <td>112.887012</td>\n",
       "      <td>295.93</td>\n",
       "      <td>296.67</td>\n",
       "      <td>295.5700</td>\n",
       "      <td>295.95</td>\n",
       "      <td>40992668</td>\n",
       "      <td>191854</td>\n",
       "      <td>296.136447</td>\n",
       "    </tr>\n",
       "    <tr>\n",
       "      <th>2019-10-15 04:00:00+00:00</th>\n",
       "      <td>112.90</td>\n",
       "      <td>112.9200</td>\n",
       "      <td>112.550</td>\n",
       "      <td>112.55</td>\n",
       "      <td>4168633</td>\n",
       "      <td>12909</td>\n",
       "      <td>112.627821</td>\n",
       "      <td>297.05</td>\n",
       "      <td>299.70</td>\n",
       "      <td>296.9700</td>\n",
       "      <td>298.88</td>\n",
       "      <td>48259856</td>\n",
       "      <td>262203</td>\n",
       "      <td>298.786484</td>\n",
       "    </tr>\n",
       "  </tbody>\n",
       "</table>\n",
       "</div>"
      ],
      "text/plain": [
       "                              AGG                                      \\\n",
       "                             open      high      low   close   volume   \n",
       "timestamp                                                               \n",
       "2019-10-09 04:00:00+00:00  113.55  113.5600  113.359  113.49  3333988   \n",
       "2019-10-10 04:00:00+00:00  113.27  113.3300  113.030  113.10  4312383   \n",
       "2019-10-11 04:00:00+00:00  112.84  112.8501  112.585  112.73  3568711   \n",
       "2019-10-14 04:00:00+00:00  112.93  112.9300  112.820  112.92  1716740   \n",
       "2019-10-15 04:00:00+00:00  112.90  112.9200  112.550  112.55  4168633   \n",
       "\n",
       "                                                      SPY                    \\\n",
       "                          trade_count        vwap    open    high       low   \n",
       "timestamp                                                                     \n",
       "2019-10-09 04:00:00+00:00       11224  113.459773  290.78  292.30  288.6559   \n",
       "2019-10-10 04:00:00+00:00       15063  113.115828  291.14  294.21  291.0000   \n",
       "2019-10-11 04:00:00+00:00       16380  112.714593  296.28  298.74  296.1448   \n",
       "2019-10-14 04:00:00+00:00        7655  112.887012  295.93  296.67  295.5700   \n",
       "2019-10-15 04:00:00+00:00       12909  112.627821  297.05  299.70  296.9700   \n",
       "\n",
       "                                                                      \n",
       "                            close     volume trade_count        vwap  \n",
       "timestamp                                                             \n",
       "2019-10-09 04:00:00+00:00  291.27   67331098      295521  291.047068  \n",
       "2019-10-10 04:00:00+00:00  293.24   57265975      335440  292.960881  \n",
       "2019-10-11 04:00:00+00:00  296.28  101330616      503760  297.177407  \n",
       "2019-10-14 04:00:00+00:00  295.95   40992668      191854  296.136447  \n",
       "2019-10-15 04:00:00+00:00  298.88   48259856      262203  298.786484  "
      ]
     },
     "metadata": {},
     "output_type": "display_data"
    },
    {
     "name": "stdout",
     "output_type": "stream",
     "text": [
      "\n",
      "\n"
     ]
    },
    {
     "data": {
      "text/html": [
       "<div>\n",
       "<style scoped>\n",
       "    .dataframe tbody tr th:only-of-type {\n",
       "        vertical-align: middle;\n",
       "    }\n",
       "\n",
       "    .dataframe tbody tr th {\n",
       "        vertical-align: top;\n",
       "    }\n",
       "\n",
       "    .dataframe thead tr th {\n",
       "        text-align: left;\n",
       "    }\n",
       "\n",
       "    .dataframe thead tr:last-of-type th {\n",
       "        text-align: right;\n",
       "    }\n",
       "</style>\n",
       "<table border=\"1\" class=\"dataframe\">\n",
       "  <thead>\n",
       "    <tr>\n",
       "      <th></th>\n",
       "      <th colspan=\"7\" halign=\"left\">AGG</th>\n",
       "      <th colspan=\"7\" halign=\"left\">SPY</th>\n",
       "    </tr>\n",
       "    <tr>\n",
       "      <th></th>\n",
       "      <th>open</th>\n",
       "      <th>high</th>\n",
       "      <th>low</th>\n",
       "      <th>close</th>\n",
       "      <th>volume</th>\n",
       "      <th>trade_count</th>\n",
       "      <th>vwap</th>\n",
       "      <th>open</th>\n",
       "      <th>high</th>\n",
       "      <th>low</th>\n",
       "      <th>close</th>\n",
       "      <th>volume</th>\n",
       "      <th>trade_count</th>\n",
       "      <th>vwap</th>\n",
       "    </tr>\n",
       "    <tr>\n",
       "      <th>timestamp</th>\n",
       "      <th></th>\n",
       "      <th></th>\n",
       "      <th></th>\n",
       "      <th></th>\n",
       "      <th></th>\n",
       "      <th></th>\n",
       "      <th></th>\n",
       "      <th></th>\n",
       "      <th></th>\n",
       "      <th></th>\n",
       "      <th></th>\n",
       "      <th></th>\n",
       "      <th></th>\n",
       "      <th></th>\n",
       "    </tr>\n",
       "  </thead>\n",
       "  <tbody>\n",
       "    <tr>\n",
       "      <th>2022-10-03 04:00:00+00:00</th>\n",
       "      <td>96.89</td>\n",
       "      <td>97.48</td>\n",
       "      <td>96.6400</td>\n",
       "      <td>96.91</td>\n",
       "      <td>9400979</td>\n",
       "      <td>35829</td>\n",
       "      <td>97.038827</td>\n",
       "      <td>361.12</td>\n",
       "      <td>368.5500</td>\n",
       "      <td>359.2100</td>\n",
       "      <td>366.61</td>\n",
       "      <td>89052594</td>\n",
       "      <td>617784</td>\n",
       "      <td>364.702960</td>\n",
       "    </tr>\n",
       "    <tr>\n",
       "      <th>2022-10-04 04:00:00+00:00</th>\n",
       "      <td>97.21</td>\n",
       "      <td>97.55</td>\n",
       "      <td>97.0811</td>\n",
       "      <td>97.17</td>\n",
       "      <td>6787571</td>\n",
       "      <td>27061</td>\n",
       "      <td>97.280917</td>\n",
       "      <td>372.45</td>\n",
       "      <td>378.0000</td>\n",
       "      <td>366.5677</td>\n",
       "      <td>377.97</td>\n",
       "      <td>102736573</td>\n",
       "      <td>683092</td>\n",
       "      <td>375.718180</td>\n",
       "    </tr>\n",
       "    <tr>\n",
       "      <th>2022-10-05 04:00:00+00:00</th>\n",
       "      <td>96.76</td>\n",
       "      <td>96.99</td>\n",
       "      <td>96.2700</td>\n",
       "      <td>96.66</td>\n",
       "      <td>9505965</td>\n",
       "      <td>27875</td>\n",
       "      <td>96.527323</td>\n",
       "      <td>373.32</td>\n",
       "      <td>379.4600</td>\n",
       "      <td>370.9500</td>\n",
       "      <td>377.09</td>\n",
       "      <td>87641027</td>\n",
       "      <td>581349</td>\n",
       "      <td>375.456940</td>\n",
       "    </tr>\n",
       "    <tr>\n",
       "      <th>2022-10-06 04:00:00+00:00</th>\n",
       "      <td>96.59</td>\n",
       "      <td>96.71</td>\n",
       "      <td>96.2100</td>\n",
       "      <td>96.28</td>\n",
       "      <td>5621330</td>\n",
       "      <td>17934</td>\n",
       "      <td>96.400739</td>\n",
       "      <td>375.65</td>\n",
       "      <td>378.7200</td>\n",
       "      <td>372.6800</td>\n",
       "      <td>373.20</td>\n",
       "      <td>81289636</td>\n",
       "      <td>577715</td>\n",
       "      <td>374.901554</td>\n",
       "    </tr>\n",
       "    <tr>\n",
       "      <th>2022-10-07 04:00:00+00:00</th>\n",
       "      <td>95.81</td>\n",
       "      <td>96.01</td>\n",
       "      <td>95.6800</td>\n",
       "      <td>95.77</td>\n",
       "      <td>6149309</td>\n",
       "      <td>18717</td>\n",
       "      <td>95.836813</td>\n",
       "      <td>369.06</td>\n",
       "      <td>373.2933</td>\n",
       "      <td>360.9400</td>\n",
       "      <td>362.79</td>\n",
       "      <td>107239188</td>\n",
       "      <td>665841</td>\n",
       "      <td>365.065822</td>\n",
       "    </tr>\n",
       "  </tbody>\n",
       "</table>\n",
       "</div>"
      ],
      "text/plain": [
       "                             AGG                                              \\\n",
       "                            open   high      low  close   volume trade_count   \n",
       "timestamp                                                                      \n",
       "2022-10-03 04:00:00+00:00  96.89  97.48  96.6400  96.91  9400979       35829   \n",
       "2022-10-04 04:00:00+00:00  97.21  97.55  97.0811  97.17  6787571       27061   \n",
       "2022-10-05 04:00:00+00:00  96.76  96.99  96.2700  96.66  9505965       27875   \n",
       "2022-10-06 04:00:00+00:00  96.59  96.71  96.2100  96.28  5621330       17934   \n",
       "2022-10-07 04:00:00+00:00  95.81  96.01  95.6800  95.77  6149309       18717   \n",
       "\n",
       "                                         SPY                              \\\n",
       "                                vwap    open      high       low   close   \n",
       "timestamp                                                                  \n",
       "2022-10-03 04:00:00+00:00  97.038827  361.12  368.5500  359.2100  366.61   \n",
       "2022-10-04 04:00:00+00:00  97.280917  372.45  378.0000  366.5677  377.97   \n",
       "2022-10-05 04:00:00+00:00  96.527323  373.32  379.4600  370.9500  377.09   \n",
       "2022-10-06 04:00:00+00:00  96.400739  375.65  378.7200  372.6800  373.20   \n",
       "2022-10-07 04:00:00+00:00  95.836813  369.06  373.2933  360.9400  362.79   \n",
       "\n",
       "                                                              \n",
       "                              volume trade_count        vwap  \n",
       "timestamp                                                     \n",
       "2022-10-03 04:00:00+00:00   89052594      617784  364.702960  \n",
       "2022-10-04 04:00:00+00:00  102736573      683092  375.718180  \n",
       "2022-10-05 04:00:00+00:00   87641027      581349  375.456940  \n",
       "2022-10-06 04:00:00+00:00   81289636      577715  374.901554  \n",
       "2022-10-07 04:00:00+00:00  107239188      665841  365.065822  "
      ]
     },
     "metadata": {},
     "output_type": "display_data"
    }
   ],
   "source": [
    "# Use the Alpaca get_bars function to make the API call to get the 3 years worth of pricing data\n",
    "# The tickers and timeframe parameters should have been set in Part 1 of this activity \n",
    "# The start and end dates should be updated with the information set above\n",
    "# Remember to add the df property to the end of the call so the response is returned as a DataFrame\n",
    "\n",
    "print(f\"Tickers are: {tickers}. Timeframe is: {TimeFrame.Day}.\")\n",
    "\n",
    "api_call_3yrs_df = alpaca.get_bars(\n",
    "    tickers,\n",
    "    TimeFrame.Day,\n",
    "    start = start_3yrs,\n",
    "    end = end_3yrs,\n",
    "    limit = 10000\n",
    ").df\n",
    "\n",
    "# Review the first 5 rows of the Alpaca DataFrame\n",
    "display(api_call_3yrs_df.head())\n",
    "print('\\n')\n",
    "# Review the last 5 rows of the Alpaca DataFrame\n",
    "display(api_call_3yrs_df.tail())\n",
    "\n",
    "# Reorganize the DataFrame\n",
    "# Separate ticker data\n",
    "AGG = api_call_3yrs_df[api_call_3yrs_df['symbol']=='AGG'].drop('symbol', axis=1)\n",
    "SPY = api_call_3yrs_df[api_call_3yrs_df['symbol']=='SPY'].drop('symbol', axis=1)\n",
    "\n",
    "# Concatenate the ticker DataFrames\n",
    "prices_3yr_df = pd.concat([AGG, SPY], axis=1, keys=['AGG','SPY'])\n",
    "\n",
    "# Display both the first and last five rows of the DataFrame\n",
    "display(prices_3yr_df.head())\n",
    "print('\\n')\n",
    "display(prices_3yr_df.tail())\n"
   ]
  },
  {
   "cell_type": "markdown",
   "metadata": {},
   "source": [
    "#### Step 2: Run a Monte Carlo simulation of 500 samples and 30 years for the 60/40 portfolio, and then plot the results."
   ]
  },
  {
   "cell_type": "code",
   "execution_count": 98,
   "metadata": {},
   "outputs": [
    {
     "data": {
      "text/html": [
       "<div>\n",
       "<style scoped>\n",
       "    .dataframe tbody tr th:only-of-type {\n",
       "        vertical-align: middle;\n",
       "    }\n",
       "\n",
       "    .dataframe tbody tr th {\n",
       "        vertical-align: top;\n",
       "    }\n",
       "\n",
       "    .dataframe thead tr th {\n",
       "        text-align: left;\n",
       "    }\n",
       "\n",
       "    .dataframe thead tr:last-of-type th {\n",
       "        text-align: right;\n",
       "    }\n",
       "</style>\n",
       "<table border=\"1\" class=\"dataframe\">\n",
       "  <thead>\n",
       "    <tr>\n",
       "      <th></th>\n",
       "      <th colspan=\"8\" halign=\"left\">AGG</th>\n",
       "      <th colspan=\"8\" halign=\"left\">SPY</th>\n",
       "    </tr>\n",
       "    <tr>\n",
       "      <th></th>\n",
       "      <th>open</th>\n",
       "      <th>high</th>\n",
       "      <th>low</th>\n",
       "      <th>close</th>\n",
       "      <th>volume</th>\n",
       "      <th>trade_count</th>\n",
       "      <th>vwap</th>\n",
       "      <th>daily_return</th>\n",
       "      <th>open</th>\n",
       "      <th>high</th>\n",
       "      <th>low</th>\n",
       "      <th>close</th>\n",
       "      <th>volume</th>\n",
       "      <th>trade_count</th>\n",
       "      <th>vwap</th>\n",
       "      <th>daily_return</th>\n",
       "    </tr>\n",
       "    <tr>\n",
       "      <th>timestamp</th>\n",
       "      <th></th>\n",
       "      <th></th>\n",
       "      <th></th>\n",
       "      <th></th>\n",
       "      <th></th>\n",
       "      <th></th>\n",
       "      <th></th>\n",
       "      <th></th>\n",
       "      <th></th>\n",
       "      <th></th>\n",
       "      <th></th>\n",
       "      <th></th>\n",
       "      <th></th>\n",
       "      <th></th>\n",
       "      <th></th>\n",
       "      <th></th>\n",
       "    </tr>\n",
       "  </thead>\n",
       "  <tbody>\n",
       "    <tr>\n",
       "      <th>2019-10-09 04:00:00+00:00</th>\n",
       "      <td>113.55</td>\n",
       "      <td>113.5600</td>\n",
       "      <td>113.359</td>\n",
       "      <td>113.49</td>\n",
       "      <td>3333988</td>\n",
       "      <td>11224</td>\n",
       "      <td>113.459773</td>\n",
       "      <td>NaN</td>\n",
       "      <td>290.78</td>\n",
       "      <td>292.30</td>\n",
       "      <td>288.6559</td>\n",
       "      <td>291.27</td>\n",
       "      <td>67331098</td>\n",
       "      <td>295521</td>\n",
       "      <td>291.047068</td>\n",
       "      <td>NaN</td>\n",
       "    </tr>\n",
       "    <tr>\n",
       "      <th>2019-10-10 04:00:00+00:00</th>\n",
       "      <td>113.27</td>\n",
       "      <td>113.3300</td>\n",
       "      <td>113.030</td>\n",
       "      <td>113.10</td>\n",
       "      <td>4312383</td>\n",
       "      <td>15063</td>\n",
       "      <td>113.115828</td>\n",
       "      <td>-0.003436</td>\n",
       "      <td>291.14</td>\n",
       "      <td>294.21</td>\n",
       "      <td>291.0000</td>\n",
       "      <td>293.24</td>\n",
       "      <td>57265975</td>\n",
       "      <td>335440</td>\n",
       "      <td>292.960881</td>\n",
       "      <td>0.006763</td>\n",
       "    </tr>\n",
       "    <tr>\n",
       "      <th>2019-10-11 04:00:00+00:00</th>\n",
       "      <td>112.84</td>\n",
       "      <td>112.8501</td>\n",
       "      <td>112.585</td>\n",
       "      <td>112.73</td>\n",
       "      <td>3568711</td>\n",
       "      <td>16380</td>\n",
       "      <td>112.714593</td>\n",
       "      <td>-0.003271</td>\n",
       "      <td>296.28</td>\n",
       "      <td>298.74</td>\n",
       "      <td>296.1448</td>\n",
       "      <td>296.28</td>\n",
       "      <td>101330616</td>\n",
       "      <td>503760</td>\n",
       "      <td>297.177407</td>\n",
       "      <td>0.010367</td>\n",
       "    </tr>\n",
       "    <tr>\n",
       "      <th>2019-10-14 04:00:00+00:00</th>\n",
       "      <td>112.93</td>\n",
       "      <td>112.9300</td>\n",
       "      <td>112.820</td>\n",
       "      <td>112.92</td>\n",
       "      <td>1716740</td>\n",
       "      <td>7655</td>\n",
       "      <td>112.887012</td>\n",
       "      <td>0.001685</td>\n",
       "      <td>295.93</td>\n",
       "      <td>296.67</td>\n",
       "      <td>295.5700</td>\n",
       "      <td>295.95</td>\n",
       "      <td>40992668</td>\n",
       "      <td>191854</td>\n",
       "      <td>296.136447</td>\n",
       "      <td>-0.001114</td>\n",
       "    </tr>\n",
       "    <tr>\n",
       "      <th>2019-10-15 04:00:00+00:00</th>\n",
       "      <td>112.90</td>\n",
       "      <td>112.9200</td>\n",
       "      <td>112.550</td>\n",
       "      <td>112.55</td>\n",
       "      <td>4168633</td>\n",
       "      <td>12909</td>\n",
       "      <td>112.627821</td>\n",
       "      <td>-0.003277</td>\n",
       "      <td>297.05</td>\n",
       "      <td>299.70</td>\n",
       "      <td>296.9700</td>\n",
       "      <td>298.88</td>\n",
       "      <td>48259856</td>\n",
       "      <td>262203</td>\n",
       "      <td>298.786484</td>\n",
       "      <td>0.009900</td>\n",
       "    </tr>\n",
       "  </tbody>\n",
       "</table>\n",
       "</div>"
      ],
      "text/plain": [
       "                              AGG                                      \\\n",
       "                             open      high      low   close   volume   \n",
       "timestamp                                                               \n",
       "2019-10-09 04:00:00+00:00  113.55  113.5600  113.359  113.49  3333988   \n",
       "2019-10-10 04:00:00+00:00  113.27  113.3300  113.030  113.10  4312383   \n",
       "2019-10-11 04:00:00+00:00  112.84  112.8501  112.585  112.73  3568711   \n",
       "2019-10-14 04:00:00+00:00  112.93  112.9300  112.820  112.92  1716740   \n",
       "2019-10-15 04:00:00+00:00  112.90  112.9200  112.550  112.55  4168633   \n",
       "\n",
       "                                                                   SPY  \\\n",
       "                          trade_count        vwap daily_return    open   \n",
       "timestamp                                                                \n",
       "2019-10-09 04:00:00+00:00       11224  113.459773          NaN  290.78   \n",
       "2019-10-10 04:00:00+00:00       15063  113.115828    -0.003436  291.14   \n",
       "2019-10-11 04:00:00+00:00       16380  112.714593    -0.003271  296.28   \n",
       "2019-10-14 04:00:00+00:00        7655  112.887012     0.001685  295.93   \n",
       "2019-10-15 04:00:00+00:00       12909  112.627821    -0.003277  297.05   \n",
       "\n",
       "                                                                            \\\n",
       "                             high       low   close     volume trade_count   \n",
       "timestamp                                                                    \n",
       "2019-10-09 04:00:00+00:00  292.30  288.6559  291.27   67331098      295521   \n",
       "2019-10-10 04:00:00+00:00  294.21  291.0000  293.24   57265975      335440   \n",
       "2019-10-11 04:00:00+00:00  298.74  296.1448  296.28  101330616      503760   \n",
       "2019-10-14 04:00:00+00:00  296.67  295.5700  295.95   40992668      191854   \n",
       "2019-10-15 04:00:00+00:00  299.70  296.9700  298.88   48259856      262203   \n",
       "\n",
       "                                                    \n",
       "                                 vwap daily_return  \n",
       "timestamp                                           \n",
       "2019-10-09 04:00:00+00:00  291.047068          NaN  \n",
       "2019-10-10 04:00:00+00:00  292.960881     0.006763  \n",
       "2019-10-11 04:00:00+00:00  297.177407     0.010367  \n",
       "2019-10-14 04:00:00+00:00  296.136447    -0.001114  \n",
       "2019-10-15 04:00:00+00:00  298.786484     0.009900  "
      ]
     },
     "execution_count": 98,
     "metadata": {},
     "output_type": "execute_result"
    }
   ],
   "source": [
    "# Configure the Monte Carlo simulation to forecast 30 years cumulative returns\n",
    "# The weights should be split 40% to AGG and 60% to SPY.\n",
    "# Run 500 samples.\n",
    "prices_3yr_30yr_df = prices_3yr_df\n",
    "\n",
    "# AGG = .4; SPY = .6\n",
    "mc_four_six_3yr_30yr_weight = MCSimulation(\n",
    "    portfolio_data = prices_3yr_30yr_df,\n",
    "    weights = [.4, .6],\n",
    "    num_simulation = 500,\n",
    "    num_trading_days = 252*30\n",
    ")\n",
    "\n",
    "# Review the simulation input data\n",
    "mc_four_six_3yr_30yr_weight.portfolio_data.head()\n"
   ]
  },
  {
   "cell_type": "code",
   "execution_count": 99,
   "metadata": {},
   "outputs": [
    {
     "name": "stdout",
     "output_type": "stream",
     "text": [
      "Running Monte Carlo simulation number 0.\n",
      "Running Monte Carlo simulation number 10.\n",
      "Running Monte Carlo simulation number 20.\n",
      "Running Monte Carlo simulation number 30.\n",
      "Running Monte Carlo simulation number 40.\n",
      "Running Monte Carlo simulation number 50.\n",
      "Running Monte Carlo simulation number 60.\n",
      "Running Monte Carlo simulation number 70.\n",
      "Running Monte Carlo simulation number 80.\n",
      "Running Monte Carlo simulation number 90.\n",
      "Running Monte Carlo simulation number 100.\n"
     ]
    },
    {
     "name": "stderr",
     "output_type": "stream",
     "text": [
      "f:\\Columbia-GitHub\\financial_planner\\MCForecastTools.py:117: PerformanceWarning: DataFrame is highly fragmented.  This is usually the result of calling `frame.insert` many times, which has poor performance.  Consider joining all columns at once using pd.concat(axis=1) instead.  To get a de-fragmented frame, use `newframe = frame.copy()`\n",
      "  portfolio_cumulative_returns[n] = (1 + sim_df.fillna(0)).cumprod()\n"
     ]
    },
    {
     "name": "stdout",
     "output_type": "stream",
     "text": [
      "Running Monte Carlo simulation number 110.\n",
      "Running Monte Carlo simulation number 120.\n",
      "Running Monte Carlo simulation number 130.\n",
      "Running Monte Carlo simulation number 140.\n",
      "Running Monte Carlo simulation number 150.\n",
      "Running Monte Carlo simulation number 160.\n",
      "Running Monte Carlo simulation number 170.\n",
      "Running Monte Carlo simulation number 180.\n",
      "Running Monte Carlo simulation number 190.\n",
      "Running Monte Carlo simulation number 200.\n",
      "Running Monte Carlo simulation number 210.\n",
      "Running Monte Carlo simulation number 220.\n",
      "Running Monte Carlo simulation number 230.\n",
      "Running Monte Carlo simulation number 240.\n",
      "Running Monte Carlo simulation number 250.\n",
      "Running Monte Carlo simulation number 260.\n",
      "Running Monte Carlo simulation number 270.\n",
      "Running Monte Carlo simulation number 280.\n",
      "Running Monte Carlo simulation number 290.\n",
      "Running Monte Carlo simulation number 300.\n",
      "Running Monte Carlo simulation number 310.\n",
      "Running Monte Carlo simulation number 320.\n",
      "Running Monte Carlo simulation number 330.\n",
      "Running Monte Carlo simulation number 340.\n",
      "Running Monte Carlo simulation number 350.\n",
      "Running Monte Carlo simulation number 360.\n",
      "Running Monte Carlo simulation number 370.\n",
      "Running Monte Carlo simulation number 380.\n",
      "Running Monte Carlo simulation number 390.\n",
      "Running Monte Carlo simulation number 400.\n",
      "Running Monte Carlo simulation number 410.\n",
      "Running Monte Carlo simulation number 420.\n",
      "Running Monte Carlo simulation number 430.\n",
      "Running Monte Carlo simulation number 440.\n",
      "Running Monte Carlo simulation number 450.\n",
      "Running Monte Carlo simulation number 460.\n",
      "Running Monte Carlo simulation number 470.\n",
      "Running Monte Carlo simulation number 480.\n",
      "Running Monte Carlo simulation number 490.\n"
     ]
    },
    {
     "data": {
      "text/html": [
       "<div>\n",
       "<style scoped>\n",
       "    .dataframe tbody tr th:only-of-type {\n",
       "        vertical-align: middle;\n",
       "    }\n",
       "\n",
       "    .dataframe tbody tr th {\n",
       "        vertical-align: top;\n",
       "    }\n",
       "\n",
       "    .dataframe thead th {\n",
       "        text-align: right;\n",
       "    }\n",
       "</style>\n",
       "<table border=\"1\" class=\"dataframe\">\n",
       "  <thead>\n",
       "    <tr style=\"text-align: right;\">\n",
       "      <th></th>\n",
       "      <th>0</th>\n",
       "      <th>1</th>\n",
       "      <th>2</th>\n",
       "      <th>3</th>\n",
       "      <th>4</th>\n",
       "      <th>5</th>\n",
       "      <th>6</th>\n",
       "      <th>7</th>\n",
       "      <th>8</th>\n",
       "      <th>9</th>\n",
       "      <th>...</th>\n",
       "      <th>490</th>\n",
       "      <th>491</th>\n",
       "      <th>492</th>\n",
       "      <th>493</th>\n",
       "      <th>494</th>\n",
       "      <th>495</th>\n",
       "      <th>496</th>\n",
       "      <th>497</th>\n",
       "      <th>498</th>\n",
       "      <th>499</th>\n",
       "    </tr>\n",
       "  </thead>\n",
       "  <tbody>\n",
       "    <tr>\n",
       "      <th>0</th>\n",
       "      <td>1.000000</td>\n",
       "      <td>1.000000</td>\n",
       "      <td>1.000000</td>\n",
       "      <td>1.000000</td>\n",
       "      <td>1.000000</td>\n",
       "      <td>1.000000</td>\n",
       "      <td>1.000000</td>\n",
       "      <td>1.000000</td>\n",
       "      <td>1.000000</td>\n",
       "      <td>1.000000</td>\n",
       "      <td>...</td>\n",
       "      <td>1.000000</td>\n",
       "      <td>1.000000</td>\n",
       "      <td>1.000000</td>\n",
       "      <td>1.000000</td>\n",
       "      <td>1.000000</td>\n",
       "      <td>1.000000</td>\n",
       "      <td>1.000000</td>\n",
       "      <td>1.000000</td>\n",
       "      <td>1.000000</td>\n",
       "      <td>1.000000</td>\n",
       "    </tr>\n",
       "    <tr>\n",
       "      <th>1</th>\n",
       "      <td>1.000125</td>\n",
       "      <td>0.997186</td>\n",
       "      <td>0.989339</td>\n",
       "      <td>0.998424</td>\n",
       "      <td>0.989227</td>\n",
       "      <td>1.015304</td>\n",
       "      <td>1.003453</td>\n",
       "      <td>0.995292</td>\n",
       "      <td>1.003417</td>\n",
       "      <td>0.987207</td>\n",
       "      <td>...</td>\n",
       "      <td>0.987437</td>\n",
       "      <td>0.996260</td>\n",
       "      <td>0.985296</td>\n",
       "      <td>1.008798</td>\n",
       "      <td>0.989094</td>\n",
       "      <td>1.000325</td>\n",
       "      <td>1.021760</td>\n",
       "      <td>1.004473</td>\n",
       "      <td>0.987831</td>\n",
       "      <td>0.997210</td>\n",
       "    </tr>\n",
       "    <tr>\n",
       "      <th>2</th>\n",
       "      <td>1.003840</td>\n",
       "      <td>0.995495</td>\n",
       "      <td>0.986690</td>\n",
       "      <td>1.005487</td>\n",
       "      <td>0.996993</td>\n",
       "      <td>1.029358</td>\n",
       "      <td>1.012963</td>\n",
       "      <td>0.983414</td>\n",
       "      <td>1.010410</td>\n",
       "      <td>0.986485</td>\n",
       "      <td>...</td>\n",
       "      <td>0.996236</td>\n",
       "      <td>0.997028</td>\n",
       "      <td>0.962645</td>\n",
       "      <td>1.000507</td>\n",
       "      <td>0.991868</td>\n",
       "      <td>1.012409</td>\n",
       "      <td>1.020964</td>\n",
       "      <td>0.993473</td>\n",
       "      <td>0.981568</td>\n",
       "      <td>0.999339</td>\n",
       "    </tr>\n",
       "    <tr>\n",
       "      <th>3</th>\n",
       "      <td>1.005479</td>\n",
       "      <td>1.001080</td>\n",
       "      <td>0.984240</td>\n",
       "      <td>1.021099</td>\n",
       "      <td>0.992625</td>\n",
       "      <td>1.027399</td>\n",
       "      <td>1.018681</td>\n",
       "      <td>0.982314</td>\n",
       "      <td>1.029873</td>\n",
       "      <td>0.978105</td>\n",
       "      <td>...</td>\n",
       "      <td>0.998820</td>\n",
       "      <td>0.983040</td>\n",
       "      <td>0.946117</td>\n",
       "      <td>0.991046</td>\n",
       "      <td>0.990730</td>\n",
       "      <td>0.998690</td>\n",
       "      <td>1.007658</td>\n",
       "      <td>1.002492</td>\n",
       "      <td>0.971521</td>\n",
       "      <td>0.998776</td>\n",
       "    </tr>\n",
       "    <tr>\n",
       "      <th>4</th>\n",
       "      <td>1.000114</td>\n",
       "      <td>1.000582</td>\n",
       "      <td>0.978328</td>\n",
       "      <td>1.024348</td>\n",
       "      <td>0.996123</td>\n",
       "      <td>1.044981</td>\n",
       "      <td>1.041410</td>\n",
       "      <td>0.988333</td>\n",
       "      <td>1.044837</td>\n",
       "      <td>0.978316</td>\n",
       "      <td>...</td>\n",
       "      <td>0.990435</td>\n",
       "      <td>0.986778</td>\n",
       "      <td>0.954901</td>\n",
       "      <td>0.984781</td>\n",
       "      <td>0.987949</td>\n",
       "      <td>0.997667</td>\n",
       "      <td>0.997770</td>\n",
       "      <td>0.999560</td>\n",
       "      <td>0.971442</td>\n",
       "      <td>0.997161</td>\n",
       "    </tr>\n",
       "    <tr>\n",
       "      <th>...</th>\n",
       "      <td>...</td>\n",
       "      <td>...</td>\n",
       "      <td>...</td>\n",
       "      <td>...</td>\n",
       "      <td>...</td>\n",
       "      <td>...</td>\n",
       "      <td>...</td>\n",
       "      <td>...</td>\n",
       "      <td>...</td>\n",
       "      <td>...</td>\n",
       "      <td>...</td>\n",
       "      <td>...</td>\n",
       "      <td>...</td>\n",
       "      <td>...</td>\n",
       "      <td>...</td>\n",
       "      <td>...</td>\n",
       "      <td>...</td>\n",
       "      <td>...</td>\n",
       "      <td>...</td>\n",
       "      <td>...</td>\n",
       "      <td>...</td>\n",
       "    </tr>\n",
       "    <tr>\n",
       "      <th>7556</th>\n",
       "      <td>1.196328</td>\n",
       "      <td>1.090096</td>\n",
       "      <td>5.267389</td>\n",
       "      <td>0.757163</td>\n",
       "      <td>1.518508</td>\n",
       "      <td>7.717246</td>\n",
       "      <td>0.725417</td>\n",
       "      <td>4.304561</td>\n",
       "      <td>1.325777</td>\n",
       "      <td>1.258874</td>\n",
       "      <td>...</td>\n",
       "      <td>2.530250</td>\n",
       "      <td>3.848471</td>\n",
       "      <td>2.326090</td>\n",
       "      <td>0.851245</td>\n",
       "      <td>7.435581</td>\n",
       "      <td>2.790068</td>\n",
       "      <td>1.434753</td>\n",
       "      <td>1.356578</td>\n",
       "      <td>6.906505</td>\n",
       "      <td>3.128343</td>\n",
       "    </tr>\n",
       "    <tr>\n",
       "      <th>7557</th>\n",
       "      <td>1.201507</td>\n",
       "      <td>1.090053</td>\n",
       "      <td>5.294236</td>\n",
       "      <td>0.748702</td>\n",
       "      <td>1.501023</td>\n",
       "      <td>7.726313</td>\n",
       "      <td>0.737479</td>\n",
       "      <td>4.319631</td>\n",
       "      <td>1.311372</td>\n",
       "      <td>1.251446</td>\n",
       "      <td>...</td>\n",
       "      <td>2.513379</td>\n",
       "      <td>3.849037</td>\n",
       "      <td>2.363172</td>\n",
       "      <td>0.848094</td>\n",
       "      <td>7.518878</td>\n",
       "      <td>2.750868</td>\n",
       "      <td>1.430442</td>\n",
       "      <td>1.374317</td>\n",
       "      <td>6.952278</td>\n",
       "      <td>3.141848</td>\n",
       "    </tr>\n",
       "    <tr>\n",
       "      <th>7558</th>\n",
       "      <td>1.194886</td>\n",
       "      <td>1.107241</td>\n",
       "      <td>5.277523</td>\n",
       "      <td>0.759847</td>\n",
       "      <td>1.502664</td>\n",
       "      <td>7.641067</td>\n",
       "      <td>0.729783</td>\n",
       "      <td>4.359829</td>\n",
       "      <td>1.300604</td>\n",
       "      <td>1.251532</td>\n",
       "      <td>...</td>\n",
       "      <td>2.466120</td>\n",
       "      <td>3.853705</td>\n",
       "      <td>2.376573</td>\n",
       "      <td>0.858471</td>\n",
       "      <td>7.487368</td>\n",
       "      <td>2.719393</td>\n",
       "      <td>1.425452</td>\n",
       "      <td>1.362028</td>\n",
       "      <td>7.039424</td>\n",
       "      <td>3.153250</td>\n",
       "    </tr>\n",
       "    <tr>\n",
       "      <th>7559</th>\n",
       "      <td>1.177848</td>\n",
       "      <td>1.119581</td>\n",
       "      <td>5.292327</td>\n",
       "      <td>0.761708</td>\n",
       "      <td>1.502499</td>\n",
       "      <td>7.722377</td>\n",
       "      <td>0.721507</td>\n",
       "      <td>4.395158</td>\n",
       "      <td>1.293330</td>\n",
       "      <td>1.249189</td>\n",
       "      <td>...</td>\n",
       "      <td>2.480433</td>\n",
       "      <td>3.851886</td>\n",
       "      <td>2.380996</td>\n",
       "      <td>0.862451</td>\n",
       "      <td>7.430880</td>\n",
       "      <td>2.726851</td>\n",
       "      <td>1.428425</td>\n",
       "      <td>1.356333</td>\n",
       "      <td>7.023378</td>\n",
       "      <td>3.143233</td>\n",
       "    </tr>\n",
       "    <tr>\n",
       "      <th>7560</th>\n",
       "      <td>1.160394</td>\n",
       "      <td>1.128372</td>\n",
       "      <td>5.398790</td>\n",
       "      <td>0.762338</td>\n",
       "      <td>1.499748</td>\n",
       "      <td>7.692082</td>\n",
       "      <td>0.713701</td>\n",
       "      <td>4.426274</td>\n",
       "      <td>1.282771</td>\n",
       "      <td>1.243934</td>\n",
       "      <td>...</td>\n",
       "      <td>2.497122</td>\n",
       "      <td>3.793588</td>\n",
       "      <td>2.342182</td>\n",
       "      <td>0.848674</td>\n",
       "      <td>7.387480</td>\n",
       "      <td>2.763440</td>\n",
       "      <td>1.442992</td>\n",
       "      <td>1.367051</td>\n",
       "      <td>7.068443</td>\n",
       "      <td>3.101089</td>\n",
       "    </tr>\n",
       "  </tbody>\n",
       "</table>\n",
       "<p>7561 rows × 500 columns</p>\n",
       "</div>"
      ],
      "text/plain": [
       "           0         1         2         3         4         5         6    \\\n",
       "0     1.000000  1.000000  1.000000  1.000000  1.000000  1.000000  1.000000   \n",
       "1     1.000125  0.997186  0.989339  0.998424  0.989227  1.015304  1.003453   \n",
       "2     1.003840  0.995495  0.986690  1.005487  0.996993  1.029358  1.012963   \n",
       "3     1.005479  1.001080  0.984240  1.021099  0.992625  1.027399  1.018681   \n",
       "4     1.000114  1.000582  0.978328  1.024348  0.996123  1.044981  1.041410   \n",
       "...        ...       ...       ...       ...       ...       ...       ...   \n",
       "7556  1.196328  1.090096  5.267389  0.757163  1.518508  7.717246  0.725417   \n",
       "7557  1.201507  1.090053  5.294236  0.748702  1.501023  7.726313  0.737479   \n",
       "7558  1.194886  1.107241  5.277523  0.759847  1.502664  7.641067  0.729783   \n",
       "7559  1.177848  1.119581  5.292327  0.761708  1.502499  7.722377  0.721507   \n",
       "7560  1.160394  1.128372  5.398790  0.762338  1.499748  7.692082  0.713701   \n",
       "\n",
       "           7         8         9    ...       490       491       492  \\\n",
       "0     1.000000  1.000000  1.000000  ...  1.000000  1.000000  1.000000   \n",
       "1     0.995292  1.003417  0.987207  ...  0.987437  0.996260  0.985296   \n",
       "2     0.983414  1.010410  0.986485  ...  0.996236  0.997028  0.962645   \n",
       "3     0.982314  1.029873  0.978105  ...  0.998820  0.983040  0.946117   \n",
       "4     0.988333  1.044837  0.978316  ...  0.990435  0.986778  0.954901   \n",
       "...        ...       ...       ...  ...       ...       ...       ...   \n",
       "7556  4.304561  1.325777  1.258874  ...  2.530250  3.848471  2.326090   \n",
       "7557  4.319631  1.311372  1.251446  ...  2.513379  3.849037  2.363172   \n",
       "7558  4.359829  1.300604  1.251532  ...  2.466120  3.853705  2.376573   \n",
       "7559  4.395158  1.293330  1.249189  ...  2.480433  3.851886  2.380996   \n",
       "7560  4.426274  1.282771  1.243934  ...  2.497122  3.793588  2.342182   \n",
       "\n",
       "           493       494       495       496       497       498       499  \n",
       "0     1.000000  1.000000  1.000000  1.000000  1.000000  1.000000  1.000000  \n",
       "1     1.008798  0.989094  1.000325  1.021760  1.004473  0.987831  0.997210  \n",
       "2     1.000507  0.991868  1.012409  1.020964  0.993473  0.981568  0.999339  \n",
       "3     0.991046  0.990730  0.998690  1.007658  1.002492  0.971521  0.998776  \n",
       "4     0.984781  0.987949  0.997667  0.997770  0.999560  0.971442  0.997161  \n",
       "...        ...       ...       ...       ...       ...       ...       ...  \n",
       "7556  0.851245  7.435581  2.790068  1.434753  1.356578  6.906505  3.128343  \n",
       "7557  0.848094  7.518878  2.750868  1.430442  1.374317  6.952278  3.141848  \n",
       "7558  0.858471  7.487368  2.719393  1.425452  1.362028  7.039424  3.153250  \n",
       "7559  0.862451  7.430880  2.726851  1.428425  1.356333  7.023378  3.143233  \n",
       "7560  0.848674  7.387480  2.763440  1.442992  1.367051  7.068443  3.101089  \n",
       "\n",
       "[7561 rows x 500 columns]"
      ]
     },
     "execution_count": 99,
     "metadata": {},
     "output_type": "execute_result"
    }
   ],
   "source": [
    "# Run the Monte Carlo simulation to forecast 30 years cumulative returns\n",
    "mc_four_six_3yr_30yr_weight.calc_cumulative_return()"
   ]
  },
  {
   "cell_type": "code",
   "execution_count": 101,
   "metadata": {},
   "outputs": [
    {
     "data": {
      "image/png": "[encoded data removed]",
      "text/plain": [
       "<Figure size 432x288 with 1 Axes>"
      ]
     },
     "metadata": {
      "needs_background": "light"
     },
     "output_type": "display_data"
    }
   ],
   "source": [
    "# Visualize the 30-year Monte Carlo simulation by creating an\n",
    "# overlay line plot\n",
    "four_six_3yr_30yr_weight_line_plot = mc_four_six_3yr_30yr_weight.plot_simulation()\n"
   ]
  },
  {
   "cell_type": "markdown",
   "metadata": {},
   "source": [
    "#### Step 3: Plot the probability distribution of the Monte Carlo simulation."
   ]
  },
  {
   "cell_type": "code",
   "execution_count": 102,
   "metadata": {},
   "outputs": [
    {
     "data": {
      "image/png": "[encoded data removed]",
      "text/plain": [
       "<Figure size 432x288 with 1 Axes>"
      ]
     },
     "metadata": {
      "needs_background": "light"
     },
     "output_type": "display_data"
    }
   ],
   "source": [
    "# Visualize the probability distribution of the 30-year Monte Carlo simulation \n",
    "# by plotting a histogram\n",
    "four_six_3yr_30yr_weight_distribution_plot = mc_four_six_3yr_30yr_weight.plot_distribution()"
   ]
  },
  {
   "cell_type": "markdown",
   "metadata": {},
   "source": [
    "#### Step 4: Generate the summary statistics for the Monte Carlo simulation."
   ]
  },
  {
   "cell_type": "code",
   "execution_count": 103,
   "metadata": {},
   "outputs": [
    {
     "data": {
      "text/plain": [
       "count           500.000000\n",
       "mean              3.236361\n",
       "std               3.169562\n",
       "min               0.223483\n",
       "25%               1.342938\n",
       "50%               2.304649\n",
       "75%               4.204439\n",
       "max              30.212169\n",
       "95% CI Lower      0.471771\n",
       "95% CI Upper     10.983868\n",
       "Name: 7560, dtype: float64"
      ]
     },
     "metadata": {},
     "output_type": "display_data"
    }
   ],
   "source": [
    "# Generate summary statistics from the 30-year Monte Carlo simulation results\n",
    "# Save the results as a variable\n",
    "four_six_3yr_30yr_weight = mc_four_six_3yr_30yr_weight.summarize_cumulative_return()\n",
    "\n",
    "\n",
    "# Review the 30-year Monte Carlo summary statistics\n",
    "display(four_six_3yr_30yr_weight)"
   ]
  },
  {
   "cell_type": "markdown",
   "metadata": {},
   "source": [
    "### Analyze the Retirement Portfolio Forecasts\n",
    "\n",
    "Using the current value of only the stock and bond portion of the member's portfolio and the summary statistics that you generated from the Monte Carlo simulation, answer the following question in your Jupyter notebook:\n",
    "\n",
    "-  What are the lower and upper bounds for the expected value of the portfolio with a 95% confidence interval?\n"
   ]
  },
  {
   "cell_type": "code",
   "execution_count": 109,
   "metadata": {},
   "outputs": [
    {
     "name": "stdout",
     "output_type": "stream",
     "text": [
      "With 95% confidence interval, ci-lower is 0.4717707881750832 and ci-upper is 10.983868269205754\n",
      "The current balance of the stock and bond portion of the members portfolio is 59060.9\n"
     ]
    }
   ],
   "source": [
    "# Print the current balance of the stock and bond portion of the members portfolio\n",
    "\n",
    "ci_lower = four_six_3yr_30yr_weight[8]\n",
    "ci_upper = four_six_3yr_30yr_weight[9]\n",
    "\n",
    "CI_upper = four_six_3yr_30yr_weight[9]\n",
    "print(f\"With 95% confidence interval, ci-lower is {ci_lower} and ci-upper is {ci_upper}\")\n",
    "\n",
    "print(f\"The current balance of the stock and bond portion of the members portfolio is {round(total_stocks_bonds, 2)}\")"
   ]
  },
  {
   "cell_type": "code",
   "execution_count": 110,
   "metadata": {},
   "outputs": [
    {
     "name": "stdout",
     "output_type": "stream",
     "text": [
      "There is a 95% chance that the members portfolio of value $59060.9 with a 40%-60% weight portfolio over the next 30 years will end within in the range of $27863.21 and $648717.15.\n"
     ]
    }
   ],
   "source": [
    "# Use the lower and upper `95%` confidence intervals to calculate the range of the possible outcomes for the current stock/bond portfolio\n",
    "ci_lower_thirty_cumulative_return = round(ci_lower * total_stocks_bonds,2)\n",
    "ci_upper_thirty_cumulative_return = round(ci_upper * total_stocks_bonds,2)\n",
    "\n",
    "# Print the result of your calculations\n",
    "print(f\"There is a 95% chance that the members portfolio of value ${round(total_stocks_bonds, 2)}\"\n",
    "      f\" with a 40%-60% weight portfolio over the next 30 years will end within in the range of\"\n",
    "      f\" ${ci_lower_thirty_cumulative_return} and ${ci_upper_thirty_cumulative_return}.\")"
   ]
  },
  {
   "cell_type": "markdown",
   "metadata": {},
   "source": [
    "### Forecast Cumulative Returns in 10 Years\n",
    "\n",
    "The CTO of the credit union is impressed with your work on these planning tools but wonders if 30 years is a long time to wait until retirement. So, your next task is to adjust the retirement portfolio and run a new Monte Carlo simulation to find out if the changes will allow members to retire earlier.\n",
    "\n",
    "For this new Monte Carlo simulation, do the following: \n",
    "\n",
    "- Forecast the cumulative returns for 10 years from now. Because of the shortened investment horizon (30 years to 10 years), the portfolio needs to invest more heavily in the riskier asset&mdash;that is, stock&mdash;to help accumulate wealth for retirement. \n",
    "\n",
    "- Adjust the weights of the retirement portfolio so that the composition for the Monte Carlo simulation consists of 20% bonds and 80% stocks. \n",
    "\n",
    "- Run the simulation over 500 samples, and use the same data that the API call to Alpaca generated.\n",
    "\n",
    "- Based on the new Monte Carlo simulation, answer the following questions in your Jupyter notebook:\n",
    "\n",
    "    - Using the current value of only the stock and bond portion of the member's portfolio and the summary statistics that you generated from the new Monte Carlo simulation, what are the lower and upper bounds for the expected value of the portfolio (with the new weights) with a 95% confidence interval?\n",
    "\n",
    "    - Will weighting the portfolio more heavily toward stocks allow the credit union members to retire after only 10 years?\n"
   ]
  },
  {
   "cell_type": "code",
   "execution_count": null,
   "metadata": {},
   "outputs": [],
   "source": [
    "# Configure a Monte Carlo simulation to forecast 10 years cumulative returns\n",
    "# The weights should be split 20% to AGG and 80% to SPY.\n",
    "# Run 500 samples.\n",
    "# YOUR CODE HERE\n",
    "\n",
    "# Review the simulation input data\n",
    "# YOUR CODE HERE\n"
   ]
  },
  {
   "cell_type": "code",
   "execution_count": null,
   "metadata": {},
   "outputs": [],
   "source": [
    "# Run the Monte Carlo simulation to forecast 10 years cumulative returns\n",
    "# YOUR CODE HERE\n"
   ]
  },
  {
   "cell_type": "code",
   "execution_count": null,
   "metadata": {},
   "outputs": [],
   "source": [
    "# Visualize the 10-year Monte Carlo simulation by creating an\n",
    "# overlay line plot\n",
    "# YOUR CODE HERE\n"
   ]
  },
  {
   "cell_type": "code",
   "execution_count": null,
   "metadata": {},
   "outputs": [],
   "source": [
    "# Visualize the probability distribution of the 10-year Monte Carlo simulation \n",
    "# by plotting a histogram\n",
    "# YOUR CODE HERE\n"
   ]
  },
  {
   "cell_type": "code",
   "execution_count": null,
   "metadata": {},
   "outputs": [],
   "source": [
    "# Generate summary statistics from the 10-year Monte Carlo simulation results\n",
    "# Save the results as a variable\n",
    "# YOUR CODE HERE\n",
    "\n",
    "\n",
    "# Review the 10-year Monte Carlo summary statistics\n",
    "# YOUR CODE HERE"
   ]
  },
  {
   "cell_type": "markdown",
   "metadata": {},
   "source": [
    "### Answer the following questions:"
   ]
  },
  {
   "cell_type": "markdown",
   "metadata": {},
   "source": [
    "#### Question: Using the current value of only the stock and bond portion of the member's portfolio and the summary statistics that you generated from the new Monte Carlo simulation, what are the lower and upper bounds for the expected value of the portfolio (with the new weights) with a 95% confidence interval?"
   ]
  },
  {
   "cell_type": "code",
   "execution_count": null,
   "metadata": {},
   "outputs": [],
   "source": [
    "# Print the current balance of the stock and bond portion of the members portfolio\n",
    "# YOUR CODE HERE\n"
   ]
  },
  {
   "cell_type": "code",
   "execution_count": null,
   "metadata": {},
   "outputs": [],
   "source": [
    "# Use the lower and upper `95%` confidence intervals to calculate the range of the possible outcomes for the current stock/bond portfolio\n",
    "ci_lower_ten_cumulative_return = # YOUR CODE HERE\n",
    "ci_upper_ten_cumulative_return = # YOUR CODE HERE\n",
    "\n",
    "# Print the result of your calculations\n",
    "# YOUR CODE HERE\n"
   ]
  },
  {
   "cell_type": "markdown",
   "metadata": {},
   "source": [
    "#### Question: Will weighting the portfolio more heavily to stocks allow the credit union members to retire after only 10 years?"
   ]
  },
  {
   "cell_type": "raw",
   "metadata": {},
   "source": [
    "**Answer** # YOUR ANSWER HERE"
   ]
  },
  {
   "cell_type": "code",
   "execution_count": null,
   "metadata": {},
   "outputs": [],
   "source": []
  }
 ],
 "metadata": {
  "kernelspec": {
   "display_name": "Python 3.7.13 ('dev')",
   "language": "python",
   "name": "python3"
  },
  "language_info": {
   "codemirror_mode": {
    "name": "ipython",
    "version": 3
   },
   "file_extension": ".py",
   "mimetype": "text/x-python",
   "name": "python",
   "nbconvert_exporter": "python",
   "pygments_lexer": "ipython3",
   "version": "3.7.13"
  },
  "vscode": {
   "interpreter": {
    "hash": "dc18f3ca76f685144b17936071a1ea4587f226bebaf5844893eb697afb4deb31"
   }
  }
 },
 "nbformat": 4,
 "nbformat_minor": 4
}
